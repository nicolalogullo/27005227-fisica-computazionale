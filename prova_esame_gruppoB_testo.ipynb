{
 "cells": [
  {
   "cell_type": "markdown",
   "id": "ff247da5",
   "metadata": {},
   "source": [
    "# Esercitazione 14/05/2025\n",
    "## Fisica Computazionale – gruppo B\n",
    "\n",
    "**Simulazione prova d'esame**"
   ]
  },
  {
   "cell_type": "markdown",
   "id": "15e9a3fb",
   "metadata": {},
   "source": [
    "## **Esercizio 1**"
   ]
  },
  {
   "cell_type": "markdown",
   "id": "45d64701",
   "metadata": {},
   "source": [
    "Un piccolo oggetto di massa $m=10\\ g$ è sospeso a un filo di lunghezza $L=30\\ cm$. L'oggetto ruota con velocità costante $v$ lungo una circonferenza orizzontale di raggio $r$, mentre il filo forma con la verticale un angolo di $30^\\circ$. (Poiché il filo descrive la superficie di un cono, il sistema è noto come *pendolo conico*.) \n",
    "\n",
    "- Trova il valore di $v$ in unità SI.\n",
    "- Come cambia il valore di $v$ se la massa raddoppia?\n"
   ]
  },
  {
   "cell_type": "markdown",
   "id": "a0c37e60",
   "metadata": {},
   "source": [
    "## **Esercizio 2**"
   ]
  },
  {
   "cell_type": "markdown",
   "id": "a2e91477",
   "metadata": {},
   "source": [
    "Un blocco di massa $0.80\\ \\text{kg}$ viene lanciato con una velocità iniziale $v_A = 1.2\\ \\text{m/s}$ verso destra e collide con una molla di massa trascurabile e costante elastica $k = 50\\ \\text{N/m}$.\n",
    "\n",
    "1. Supponendo che la superficie sia priva di attrito, calcola la compressione massima della molla dopo la collisione.\n",
    "\n",
    "Supponi ora che tra il blocco e la superficie agisca una forza costante di attrito dinamico, con coefficiente $\\mu_d = 0.20$. \n",
    "\n",
    "2. Se la velocità del blocco <u>nel momento in cui collide con la molla</u> è $v_A = 1.2\\ \\text{m/s}$, qual è la compressione massima $x_C$ della molla?\n",
    "\n",
    "3. In quale posizione si fermerà il corpo?\n",
    "\n",
    "4. Simula il moto del corpo con l'algoritmo di Eulero, facendo un grafico di posizione, velocità ed energia e confronta i risultati con quelli ottenuti analiticamente.\n",
    "\n"
   ]
  },
  {
   "cell_type": "markdown",
   "id": "38f80f80",
   "metadata": {},
   "source": [
    "## **Esercizio 3**"
   ]
  },
  {
   "cell_type": "markdown",
   "id": "b23dbef0",
   "metadata": {},
   "source": [
    "L'andamento nel tempo della popolazione di una colonia di batteri in una piastra di Petri può essere descritta matematicamente dalla seguente equazione differenziale, detta **equazione logistica**:\n",
    "$$\\frac{dN}{dt} = rN\\left(1 - \\frac{N}{K}\\right)$$\n",
    "dove $N$ è il numero di batteri al tempo $t$, $r$ è un parametro di crescita e $K$ rappresenta la massima popolazione raggiungibile con queste risorse. Per questo esercizio, considera $K=10^9$, $r=3$ e $N_0=1000$ come valore iniziale di $N$.\n",
    "\n",
    "- Simula tramite l'algoritmo di Eulero l'andamento di $N$, per un tempo totale $T=10$. Fai un grafico di $N$ in funzione del tempo.\n",
    "\n",
    "*Suggerimento:* discretizza l'equazione differenziale ($\\frac{dN}{dt}\\rightarrow\\frac{\\Delta N}{\\Delta t}$) e trova l'equazione per ottenere $N_{i+1}$ a partire da $N_i$."
   ]
  },
  {
   "cell_type": "markdown",
   "id": "0d35b5dd",
   "metadata": {},
   "source": []
  }
 ],
 "metadata": {
  "kernelspec": {
   "display_name": "qml_venv",
   "language": "python",
   "name": "python3"
  },
  "language_info": {
   "codemirror_mode": {
    "name": "ipython",
    "version": 3
   },
   "file_extension": ".py",
   "mimetype": "text/x-python",
   "name": "python",
   "nbconvert_exporter": "python",
   "pygments_lexer": "ipython3",
   "version": "3.12.4"
  }
 },
 "nbformat": 4,
 "nbformat_minor": 5
}
