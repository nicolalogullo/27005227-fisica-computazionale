{
 "cells": [
  {
   "cell_type": "markdown",
   "metadata": {},
   "source": [
    "# Esercitazione 4a settimana - Fisica Computazionale\n",
    "\n",
    "## **Dinamica del punto materiale: piano inclinato, attrito, moto 2D in presenza di forze**"
   ]
  },
  {
   "cell_type": "markdown",
   "metadata": {},
   "source": [
    "## **Esercizio 1. Piano inclinato**\n",
    "\n",
    "Il varo è il momento in cui una nave [viene fatta entrare in acqua](https://i.pinimg.com/originals/78/a6/ce/78a6ce6caae8b01c667a6ebae110a3a5.gif). In alcuni casi, la nave viene costruita su una rampa inclinata, e lasciata scivolare in mare a lavori ultimati.\n",
    "\n",
    "Considera:\n",
    "- una nave di massa pari a $10^4$ tonnellate,\n",
    "- su una rampa lunga $100\\ m$,\n",
    "- con coefficiente di attrito statico $\\mu_s=0.1$ (l'attrito viene ridotto lubrificando la rampa).\n",
    "\n",
    "1) quale deve essere l'angolo minimo della rampa in modo che la nave possa scivolare in acqua?\n",
    "\n",
    "2) Per evitare la formazione di onde violente nel porto, si stima che la velocità di ingresso in acqua della nave non debba superare i 15 m/s. Qual è quindi l'angolo massimo della rampa perché questa condizione sia rispettata?\n",
    "\n",
    "Calcola i risultati in assenza e in presenza di attrito dinamico ($\\mu_d=0.7$)."
   ]
  },
  {
   "cell_type": "markdown",
   "metadata": {},
   "source": [
    "## Soluzione numerica: **il metodo di bisezione**\n",
    "\n",
    "Il metodo di bisezione ci permette di trovare, sotto alcune condizioni, lo zero di una funzione, cioè il valore per cui una funzione si annulla: è quindi molto utile quando le equazioni non sono risolvibili analiticamente.\n",
    "\n",
    "## Esempio"
   ]
  },
  {
   "cell_type": "code",
   "execution_count": 9,
   "metadata": {},
   "outputs": [
    {
     "name": "stdout",
     "output_type": "stream",
     "text": [
      "0 10\n",
      "0 5.0\n",
      "0 2.5\n",
      "1.25 2.5\n",
      "1.875 2.5\n",
      "1.875 2.1875\n",
      "1.875 2.03125\n",
      "1.953125 2.03125\n",
      "1.9921875 2.03125\n",
      "1.9921875 2.01171875\n",
      "1.9921875 2.001953125\n",
      "1.9970703125 2.001953125\n",
      "1.99951171875 2.001953125\n",
      "1.99951171875 2.000732421875\n"
     ]
    },
    {
     "data": {
      "text/plain": [
       "(0.0, 10.0)"
      ]
     },
     "execution_count": 9,
     "metadata": {},
     "output_type": "execute_result"
    },
    {
     "data": {
      "image/png": "[encoded data removed]",
      "text/plain": [
       "<Figure size 640x480 with 1 Axes>"
      ]
     },
     "metadata": {},
     "output_type": "display_data"
    }
   ],
   "source": [
    "import numpy as np\n",
    "import matplotlib.pyplot as plt\n",
    "\n",
    "def algoritmo_bisezione(f, x1, x2, risoluzione=0.001):    # f è una funzione!\n",
    "    # alcune accortezze\n",
    "    if x2 <= x1:\n",
    "        print('x2 must be greater than x1')\n",
    "        return\n",
    "    elif f(x1)*f(x2) >= 0:\n",
    "        print('f(x1) and f(x2) must have opposite signs')\n",
    "        return\n",
    "    else:\n",
    "        xm = (x1+x2)/2\n",
    "        while x2-x1 > risoluzione:\n",
    "            print(x1,x2)            # scommenta per stampare le varie iterazioni\n",
    "            xm = (x1+x2)/2\n",
    "            if f(xm)*f(x1) >= 0:\n",
    "                x1 = xm\n",
    "            else:\n",
    "                x2 = xm\n",
    "        return xm\n",
    "\n",
    "# esempio\n",
    "def parabola(x):\n",
    "    return x**2-4\n",
    "\n",
    "x1, x2 = 0, 10\n",
    "xs = np.linspace(x1, x2, 100)\n",
    "plt.plot(xs, parabola(xs))\n",
    "plt.axvline(x=algoritmo_bisezione(parabola, x1, x2), ls='--', color='tab:orange')\n",
    "plt.grid()\n",
    "plt.xlim(x1, x2)\n"
   ]
  },
  {
   "cell_type": "markdown",
   "metadata": {},
   "source": [
    "\n",
    "Immaginiamo di voler risolvere il punto 2. dell'esercizio del piano inclinato. Vogliamo cioè trovare l'angolo $\\theta_{MAX}$, quello per cui la velocità di ingresso in acqua è esattamente uguale al valore critico di 10 m/s. Vogliamo cioè risolvere l'equazione (vedi sopra):\n",
    "\n",
    "$$\\sqrt{g\\cdot\\sin x\\cdot{2\\cdot 100}}=15\\quad(*)$$ \n",
    "\n",
    "Per usare l'algoritmo di bisezione dobbiamo però definire la funzione di cui vogliamo trovare lo *zero*! Definiamo allora $f(x)$ come:\n",
    "$$f(x) \\equiv \\sqrt{9.81\\cdot\\sin x\\cdot{2\\cdot 100}}-15$$\n",
    "in questo modo trovare il valore per cui $f(x)=0$ equivale a trovare una soluzione per l'equazione (*)."
   ]
  },
  {
   "cell_type": "markdown",
   "metadata": {},
   "source": [
    "## **Esercizio 2. Moto rettilineo di un corpo con massa variabile**\n",
    "\n",
    "Tratto da \"Physics for Scientists and Engineers\", 6th Edition, esercizio 11 cap. 5:\n",
    "\n",
    "_Suppose a truck loaded with sand accelerates along a highway. If the driving force on the truck remains constant, what happens to the truck’s acceleration if its trailer leaks sand at a constant rate through a hole in its bottom?_\n",
    "\n",
    "Sapendo che:\n",
    "- il camion da vuoto pesa 10 tonnellate e sta trasportando 20 tonnellate di sabbia, \n",
    "- il camion perde $3\\ m^3$ di sabbia ogni minuto,\n",
    "- il camion accelera, da una velocità iniziale di $50\\ km/h$ ad una finale di $140\\ km/h$ (quando l'autista si accorge che c'è un problema) esercitando una forza di $5\\ kN$, \n",
    "- la sabbia ha una densità di $\\rho=1.5\\ ton/m^3$.\n",
    "\n",
    "Trova:\n",
    "- la distanza percorsa tra istante iniziale e finale,\n",
    "- il tempo trascorso,\n",
    "- la sabbia persa lungo la strada.\n",
    "\n",
    "**Risolvere matematicamente questo problema non è banale** perché l'accelerazione non è costante! Trova quindi una soluzione numerica con il metodo di Eulero.\n",
    "\n",
    "**Ricorda che:** per trovare l'accelerazione puoi sempre usare la legge di Newton: $\\quad F=ma$"
   ]
  },
  {
   "cell_type": "code",
   "execution_count": null,
   "metadata": {},
   "outputs": [],
   "source": []
  },
  {
   "cell_type": "code",
   "execution_count": null,
   "metadata": {},
   "outputs": [],
   "source": []
  },
  {
   "cell_type": "code",
   "execution_count": null,
   "metadata": {},
   "outputs": [],
   "source": []
  }
 ],
 "metadata": {
  "kernelspec": {
   "display_name": "qml_venv",
   "language": "python",
   "name": "python3"
  },
  "language_info": {
   "codemirror_mode": {
    "name": "ipython",
    "version": 3
   },
   "file_extension": ".py",
   "mimetype": "text/x-python",
   "name": "python",
   "nbconvert_exporter": "python",
   "pygments_lexer": "ipython3",
   "version": "3.12.4"
  }
 },
 "nbformat": 4,
 "nbformat_minor": 2
}
