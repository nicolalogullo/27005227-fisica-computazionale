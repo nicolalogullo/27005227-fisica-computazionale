{
 "cells": [
  {
   "cell_type": "markdown",
   "metadata": {},
   "source": [
    "# Esercitazione 4a settimana - Fisica Computazionale\n",
    "\n",
    "## **Dinamica del punto materiale: piano inclinato, attrito, moto 2D in presenza di forze**"
   ]
  },
  {
   "cell_type": "markdown",
   "metadata": {},
   "source": [
    "## **Esercizio 1. Piano inclinato**\n",
    "\n",
    "Il varo è il momento in cui una nave [viene fatta entrare in acqua](https://i.pinimg.com/originals/78/a6/ce/78a6ce6caae8b01c667a6ebae110a3a5.gif). In alcuni casi, la nave viene costruita su una rampa inclinata, e lasciata scivolare in mare a lavori ultimati.\n",
    "\n",
    "Considera:\n",
    "- una nave di massa pari a $10^4$ tonnellate,\n",
    "- su una rampa lunga $100\\ m$,\n",
    "- con coefficiente di attrito statico $\\mu_s=0.1$ (l'attrito viene ridotto lubrificando la rampa).\n",
    "\n",
    "1) quale deve essere l'angolo minimo della rampa in modo che la nave possa scivolare in acqua?\n",
    "\n",
    "2) Per evitare la formazione di onde violente nel porto, si stima che la velocità di ingresso in acqua della nave non debba superare i 15 m/s. Qual è quindi l'angolo massimo della rampa perché questa condizione sia rispettata?\n",
    "\n",
    "Calcola i risultati in assenza e in presenza di attrito dinamico ($\\mu_d=0.7$)."
   ]
  },
  {
   "cell_type": "markdown",
   "metadata": {},
   "source": [
    "## Soluzione numerica: **il metodo di bisezione**\n",
    "\n",
    "Il metodo di bisezione ci permette di trovare, sotto alcune condizioni, lo ***zero*** di una funzione, cioè **il valore per cui una funzione si annulla**: è quindi molto utile quando le equazioni non sono risolvibili analiticamente.\n",
    "\n",
    "## Esempio: la funzione $f(x)=x^2-4$"
   ]
  },
  {
   "cell_type": "code",
   "execution_count": 1,
   "metadata": {},
   "outputs": [
    {
     "name": "stdout",
     "output_type": "stream",
     "text": [
      "0 10\n",
      "0 5.0\n",
      "0 2.5\n",
      "1.25 2.5\n",
      "1.875 2.5\n",
      "1.875 2.1875\n",
      "1.875 2.03125\n",
      "1.953125 2.03125\n",
      "1.9921875 2.03125\n",
      "1.9921875 2.01171875\n",
      "1.9921875 2.001953125\n",
      "1.9970703125 2.001953125\n",
      "1.99951171875 2.001953125\n",
      "1.99951171875 2.000732421875\n"
     ]
    },
    {
     "data": {
      "image/png": "[encoded data removed]",
      "text/plain": [
       "<Figure size 640x480 with 1 Axes>"
      ]
     },
     "metadata": {},
     "output_type": "display_data"
    }
   ],
   "source": [
    "import numpy as np\n",
    "import matplotlib.pyplot as plt\n",
    "\n",
    "def algoritmo_bisezione(f, x1, x2, risoluzione=0.001):    # f è una funzione!\n",
    "    # alcune accortezze\n",
    "    if x2 <= x1:\n",
    "        print('x2 must be greater than x1')\n",
    "        return\n",
    "    elif f(x1)*f(x2) >= 0:\n",
    "        print('f(x1) and f(x2) must have opposite signs')\n",
    "        return\n",
    "    else:\n",
    "        xm = (x1+x2)/2\n",
    "        while x2-x1 > risoluzione:\n",
    "            print(x1,x2)            # scommenta per stampare le varie iterazioni\n",
    "            xm = (x1+x2)/2\n",
    "            if f(xm)*f(x1) >= 0:\n",
    "                x1 = xm\n",
    "            else:\n",
    "                x2 = xm\n",
    "        return xm\n",
    "\n",
    "# esempio\n",
    "def parabola(x):\n",
    "    return x**2-4\n",
    "\n",
    "# Scelgo x1 e x2 in modo che f(x1) e f(x2) abbiano segni opposti!\n",
    "x1, x2 = 0, 10\n",
    "x0 = algoritmo_bisezione(parabola, x1, x2)\n",
    "\n",
    "# plot\n",
    "xs = np.linspace(x1, x2, 100)\n",
    "plt.plot(xs, parabola(xs))\n",
    "plt.axvline(x=x0, ls='--', color='tab:orange')\n",
    "plt.xlim(x1, x2)\n",
    "plt.grid()\n"
   ]
  },
  {
   "cell_type": "markdown",
   "metadata": {},
   "source": [
    "\n",
    "Immaginiamo di voler risolvere il punto 2. dell'esercizio del piano inclinato. Vogliamo cioè trovare l'angolo $\\theta_{MAX}$, quello per cui la velocità di ingresso in acqua è esattamente uguale al valore critico di 10 m/s. Vogliamo cioè risolvere l'equazione (**nel caso senza attrito dinamico**):\n",
    "\n",
    "$$\\sqrt{g\\cdot\\sin x\\cdot{2\\cdot 100}}=15\\quad(*)$$ \n",
    "\n",
    "Per usare l'algoritmo di bisezione dobbiamo però definire la funzione di cui vogliamo trovare lo *zero*! Definiamo allora $f(x)$ come:\n",
    "$$f(x) \\equiv \\sqrt{9.81\\cdot\\sin x\\cdot{2\\cdot 100}}-15$$\n",
    "in questo modo trovare il valore per cui $f(x)=0$ equivale a trovare una soluzione per l'equazione (*)."
   ]
  },
  {
   "cell_type": "code",
   "execution_count": null,
   "metadata": {},
   "outputs": [],
   "source": [
    "# il tuo codice"
   ]
  },
  {
   "cell_type": "markdown",
   "metadata": {},
   "source": [
    "## **Esercizio 2. Moto rettilineo di un corpo con massa variabile**\n",
    "\n",
    "Tratto da \"Physics for Scientists and Engineers\", 6th Edition, esercizio 11 cap. 5:\n",
    "\n",
    "_Suppose a truck loaded with sand accelerates along a highway. If the driving force on the truck remains constant, what happens to the truck’s acceleration if its trailer leaks sand at a constant rate through a hole in its bottom?_\n",
    "\n",
    "Sapendo che:\n",
    "- il camion da vuoto pesa 10 tonnellate e sta trasportando 20 tonnellate di sabbia, \n",
    "- il camion perde $3\\ m^3$ di sabbia ogni minuto,\n",
    "- il camion accelera, da una velocità iniziale di $50\\ km/h$ ad una finale di $140\\ km/h$ (quando l'autista si accorge che c'è un problema) esercitando una forza di $5\\ kN$, \n",
    "- la sabbia ha una densità di $\\rho=1.5\\ ton/m^3$.\n",
    "\n",
    "Trova:\n",
    "- la distanza percorsa tra istante iniziale e finale,\n",
    "- il tempo trascorso,\n",
    "- la sabbia persa lungo la strada.\n",
    "\n",
    "**Risolvere matematicamente questo problema non è banale** perché l'accelerazione non è costante! Trova quindi una soluzione numerica **con il metodo di Eulero**.\n",
    "\n",
    "### Ricorda che per trovare l'accelerazione puoi sempre usare la **seconda legge di Newton**: \n",
    "# $$\\quad {\\vec{F}=m\\vec{a}}$$"
   ]
  },
  {
   "cell_type": "code",
   "execution_count": null,
   "metadata": {},
   "outputs": [],
   "source": [
    "# il tuo codice"
   ]
  },
  {
   "cell_type": "markdown",
   "metadata": {},
   "source": [
    "## **Esercizio 3. Moto in 1D in presenza di gravità**\n",
    "\n",
    "Nel libro \"Dalla Terra alla Luna\" Jules Verne immagina che l'uomo raggiunga la Luna a bordo di una [navicella che viene sparata da un cannone gigante](https://youtu.be/ZNAHcMMOHE8?si=w7G1E7VFP96HWx3a&t=374) puntato direttamente verso la Luna.\n",
    "\n",
    "Qual è essere la velocità minima con cui un proiettile di questo genere dovrebbe uscire dal cannone per poter sfuggire al campo gravitazionale terrestre ed entrare in quello della Luna?\n",
    "\n",
    "**Dati**\n",
    "- massa Terra: $M_T=6.0 \\times 10^{24}\\ kg$\n",
    "- raggio Terra: $R_T=6.4\\times 10^3\\ km$\n",
    "- massa Luna: $M_L=7.3 \\times 10^{22}\\ kg$\n",
    "- raggio Luna: $R_L=1.7\\times 10^3\\ km$\n",
    "- distanza Terra-Luna: $3.8\\times 10^8 m$\n",
    "- costante gravitazione universale: $G=6.674\\times 10^{-11}\\ m^3 kg^{-1}s^{-2}$\n",
    "\n",
    "**Trovare**\n",
    "- la velocità di fuga $v_{fuga}$.\n"
   ]
  },
  {
   "cell_type": "code",
   "execution_count": 2,
   "metadata": {},
   "outputs": [
    {
     "data": {
      "text/plain": [
       "[]"
      ]
     },
     "execution_count": 2,
     "metadata": {},
     "output_type": "execute_result"
    },
    {
     "data": {
      "image/png": "[encoded data removed]",
      "text/plain": [
       "<Figure size 640x480 with 1 Axes>"
      ]
     },
     "metadata": {},
     "output_type": "display_data"
    }
   ],
   "source": [
    "# DIAGRAMMA PROBLEMA\n",
    "import matplotlib.pyplot as plt\n",
    "from funzioni_fis_comp import *\n",
    "\n",
    "dterraluna=30000\n",
    "xnavicella=14000\n",
    "terra = plt.Circle((0, 0), 6000, color='blue')  # 'fill=False' per solo contorno\n",
    "luna = plt.Circle((dterraluna, 0), 1700, color='gray')  # 'fill=False' per solo contorno\n",
    "\n",
    "fig, ax = plt.subplots()\n",
    "plt.title('Diagramma (non in scala)')\n",
    "ax.text(0, 6000, 'Terra', ha='center', fontsize=15, color='blue')\n",
    "ax.text(dterraluna, 1700, 'Luna', ha='center', fontsize=15, color='gray')\n",
    "ax.text(xnavicella, 1000, 'navicella', ha='center', fontsize=15)\n",
    "ax.text(xnavicella, -2500, r'$\\vec{F}_T\\qquad$', ha='right', fontsize=15, color='blue')\n",
    "ax.text(xnavicella, -2500, r'$\\quad\\vec{F}_L$', ha='left', fontsize=15, color='gray')\n",
    "ax.add_patch(terra)\n",
    "ax.add_patch(luna)\n",
    "ax.axis('equal')\n",
    "ax.plot(xnavicella, 0,'o', color='black', markersize=10)\n",
    "disegna_vettore([-5000, 0], [xnavicella,0], color='blue')\n",
    "disegna_vettore([3000, 0], [xnavicella,0], color='gray')\n",
    "ax.plot([6000, dterraluna-1700], [0,0], '--', color='black', zorder=0)\n",
    "ax.set_xticklabels([])\n",
    "ax.set_yticklabels([])\n",
    "ax.set_xticks([])\n",
    "ax.set_yticks([])"
   ]
  },
  {
   "cell_type": "markdown",
   "metadata": {},
   "source": [
    "## Soluzione analitica\n",
    "\n",
    "Anche qui possiamo calcolare la soluzione utilizzando considerazioni sulla conservazione dell'energia (facoltativo):"
   ]
  },
  {
   "cell_type": "code",
   "execution_count": 1,
   "metadata": {},
   "outputs": [
    {
     "name": "stdout",
     "output_type": "stream",
     "text": [
      "La velocità di fuga è: 11092 m/s.\n"
     ]
    }
   ],
   "source": [
    "import numpy as np\n",
    "\n",
    "# Dati (convertiti in unità SI)\n",
    "M_T = 6.0E24             # massa Terra \n",
    "R_T = 6400 * 1000              # raggio Terra \n",
    "\n",
    "M_L = 7.3E22             # massa Luna \n",
    "R_L = 1700 * 1000              # raggio Luna \n",
    "\n",
    "m = 5000                     # massa proiettile\n",
    "\n",
    "d = 3.8E8       # distanza Terra-Luna \n",
    "G = 6.7E-11            # costante gravitazione universale \n",
    "\n",
    "r = M_T/M_L\n",
    "# il punto in cui la forza risultante sulla navicella si annulla\n",
    "x = np.sqrt(r) * d / (1 + np.sqrt(r))\n",
    "# le energie potenziali gravitazionali in x e sulla Terra\n",
    "V_terra = -G * m * (M_T/R_T + M_L/(d-R_L))\n",
    "V_x = -G * m *(M_T/x + M_L/(d-x))\n",
    "# richiedendo che l'energia cinetica sia uguale a V(x) - V(terra) si ha:\n",
    "v_fuga = np.sqrt(2/m * (V_x - V_terra))\n",
    "print('La velocità di fuga è: %.0f m/s.' % v_fuga)"
   ]
  },
  {
   "cell_type": "markdown",
   "metadata": {},
   "source": [
    "## Soluzione numerica"
   ]
  },
  {
   "cell_type": "code",
   "execution_count": null,
   "metadata": {},
   "outputs": [],
   "source": [
    "# il tuo codice"
   ]
  }
 ],
 "metadata": {
  "kernelspec": {
   "display_name": "qml_venv",
   "language": "python",
   "name": "python3"
  },
  "language_info": {
   "codemirror_mode": {
    "name": "ipython",
    "version": 3
   },
   "file_extension": ".py",
   "mimetype": "text/x-python",
   "name": "python",
   "nbconvert_exporter": "python",
   "pygments_lexer": "ipython3",
   "version": "3.12.4"
  }
 },
 "nbformat": 4,
 "nbformat_minor": 2
}
