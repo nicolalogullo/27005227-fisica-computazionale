{
 "cells": [
  {
   "cell_type": "markdown",
   "id": "36baf0a8",
   "metadata": {},
   "source": [
    "# Esercitazione #08 - Fisica Computazionale\n",
    "\n",
    "Utilizziamo il principio di conservazione dell'energia per risolvere alcuni esercizi tratti o adattati da \"Physics for Scientists and Engineers\", 6th Edition, capitoli 7 e 8.\n"
   ]
  },
  {
   "cell_type": "markdown",
   "id": "3f45f280",
   "metadata": {},
   "source": [
    "# **Conservazione dell'energia - richiami di teoria:**\n",
    "\n",
    "### **Principio di conservazione dell'energia meccanica**\n",
    "\n",
    "In un sistema isolato, in assenza di forze non conservative l'energia meccanica rimane costante, ovvero la sua variazione tra due istanti qualsiasi è sempre nulla:\n",
    "$$E_f-E_i = 0$$\n",
    "L'energia meccanica è la somma di energia cinetica e potenziale:\n",
    "$$E=E_c+U$$\n",
    "L'**energia cinetica** è legata alla velocità del corpo:\n",
    "$$E_c=\\frac{1}{2}mv^2$$\n",
    "mentre l'**energia potenziale** può essere la somma di diversi termini: abbiamo incontrato finora l'**energia potenziale gravitazionale** \n",
    "$$U_g=mgh$$ \n",
    "e l'**energia potenziale elastica** \n",
    "$$U_{el}=\\frac{1}{2}kx^2$$\n",
    "\n",
    "**In presenza di forze non conservative** $\\vec{F_{nc}}$ (per esempio le forze di attrito radente o viscoso) va considerato anche il lavoro $L_{nc}$ che queste compiono:\n",
    "$$E_f-E_i = L_{nc}$$\n",
    "Quindi l'energia meccanica non si conserva (ma l'energia totale sì!). \n",
    "\n",
    "Nel caso specifico dell'attrito, il lavoro è sempre ***resistente***, cioè si oppone al movimento, e perciò negativo: la parte di energia meccanica che è apparentemente scomparsa è stata in verità dissipata in calore.\n",
    "\n",
    "Infine, il **teorema dell'energia cinetica** (o teorema delle forze vive) afferma che la variazione in energia cinetica di un corpo è pari al lavoro totale fatto dalle forze:\n",
    "$$L= K_f-K_i $$"
   ]
  },
  {
   "cell_type": "markdown",
   "id": "1de4abb1",
   "metadata": {},
   "source": [
    "### Esercizio 35 pag. 212\n",
    "\n",
    "Una slitta di massa $m$ riceve una spinta su uno stagno ghiacciato, che le dà una velocità iniziale di 2,00 m/s. Il coefficiente di attrito dinamico tra la slitta e il ghiaccio è 0,100. Utilizza il principio di conservazione dell'energia per determinare la distanza percorsa dalla slitta prima che si fermi.\n",
    "\n",
    "\n",
    "Risolvi lo stesso esercizio utilizzando le formule della cinematica sui moti e confronta i risultati."
   ]
  },
  {
   "cell_type": "markdown",
   "id": "8b25ec73",
   "metadata": {},
   "source": [
    "### Soluzione \n",
    "\n",
    "Conosciamo velocità iniziale e finale, quindi possiamo utilizzare il teorema delle forze vive per risolvere il problema, o in maniera equivalente il principio di conservazione dell'energia in presenza di forze non conservative. In entrambi i casi avremo:\n",
    "$$\\cancel{E_{c1}}-E_{c0}=L_{nc}$$\n",
    "Sappiamo inoltre che la forza d'attrito è costante e compie un lavoro \n",
    "$$\\vec{F_a}\\cdot\\Delta\\vec{x}=-F_a\\Delta x$$\n",
    "Possiamo quindi scrivere \n",
    "$$-\\frac{1}{2}mv_0^2=-\\mu_d\\Delta x$$\n",
    "e ricavare:\n",
    "$$\\Delta x=\\frac{mv_0^2}{2\\mu_d}$$"
   ]
  },
  {
   "cell_type": "markdown",
   "id": "45f373a5",
   "metadata": {},
   "source": [
    "### Example 8.5\n",
    "\n",
    "Il meccanismo di lancio di una pistola giocattolo consiste in una molla di costante elastica incognita (vedi fig8pt9.png). Quando la molla viene compressa di $0.120\\ \\text{m}$, la pistola, se tenuta verticalmente, è in grado di lanciare un proiettile da $35.0\\ \\text{g}$ fino a un'altezza massima di $20.0\\ \\text{m}$ rispetto alla posizione del proiettile prima del lancio.\n",
    "\n",
    "1. Trascurando tutte le forze di attrito, determina la costante elastica della molla.\n",
    "\n",
    "2. Trova la velocità del proiettile mentre attraversa la posizione di equilibrio della molla (dove $x_B = 0.120\\ \\text{m}$), come mostrato in Figura 8.9b.\n",
    "\n"
   ]
  },
  {
   "cell_type": "markdown",
   "id": "cedce8e0",
   "metadata": {},
   "source": [
    "### Soluzione\n",
    "\n",
    "Anche qui possiamo usare considerazioni sull'energia in presenza di forze non conservative per risolvere l'esercizio. \n",
    "\n",
    "Poniamo lo 0 dell'asse verticale come in figura, in corrispondenza della posizione di partenza del proiettile. \n",
    "\n",
    "1. consideriamo come istanti iniziale e finale quello (A) in cui la molla è compressa e il proiettile in quiete, in cui quindi l'energia meccanica è data soltanto dall'energia potenziale elastica:\n",
    "$$E_A = \\cancel{E_{c}^A} + \\cancel{U_g^A} + \\frac{1}{2}k\\Delta x^2 $$\n",
    "ed il punto di massima altezza C, visto che ne conosciamo la velocità, anche qui nulla:\n",
    "$$E_C = \\cancel{E_{c}^C}  + mgh_{MAX} + \\cancel{U_{el}^C} $$\n",
    "Uguagliando le due e isolando $k$ che è l'unica incognita otteniamo:\n",
    "$$k=\\frac{2mgh_{MAX}}{\\Delta x^2}$$\n",
    "\n",
    "2. Per trovare la velocità alla posizione di riposo, che per come abbiamo impostato gli assi è $x_B=0.120\\ m$, chiaramente sceglieremo B come uno dei due istanti. Il secondo istante può essere sia A che C, per esempio scegliendo C avremo:\n",
    "$$ \\frac{1}{2}\\cancel{m}v^2 + \\cancel{m}gh_B = \\cancel{m}gh_{MAX} \\quad \\Rightarrow \\quad \\sqrt{2g(h_{MAX}- h_B)}$$"
   ]
  },
  {
   "cell_type": "markdown",
   "id": "ef2fd432",
   "metadata": {},
   "source": [
    "### Esercizio 10 pag. 241\n",
    "\n",
    "An object of mass m starts from rest and slides a distance d down a frictionless incline of angle $\\theta$. While sliding, it contacts an unstressed spring of negligible mass as shown in Figure homework.png. The object slides an additional distance x as it is brought momentarily to rest by compression of the spring (of force constant k). Find the initial separation d between object and spring.\n"
   ]
  },
  {
   "cell_type": "markdown",
   "id": "8c4d164b",
   "metadata": {},
   "source": []
  }
 ],
 "metadata": {
  "kernelspec": {
   "display_name": "qml_venv",
   "language": "python",
   "name": "python3"
  },
  "language_info": {
   "codemirror_mode": {
    "name": "ipython",
    "version": 3
   },
   "file_extension": ".py",
   "mimetype": "text/x-python",
   "name": "python",
   "nbconvert_exporter": "python",
   "pygments_lexer": "ipython3",
   "version": "3.12.4"
  }
 },
 "nbformat": 4,
 "nbformat_minor": 5
}
