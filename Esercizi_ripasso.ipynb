{
 "cells": [
  {
   "cell_type": "markdown",
   "metadata": {},
   "source": [
    "## **Esercizi suggeriti per il ripasso**\n",
    "\n",
    "I numeri degli esercizi sono riferiti al libro di Serway & Jewett, \"Physics for Scientists and Engineers\", 6th Edition, capitoli 7 e 8. Gli asterischi (*) indicano esercizi più impegnativi."
   ]
  },
  {
   "cell_type": "markdown",
   "metadata": {},
   "source": [
    "| Capitolo | Esercizio | Argomenti                                          |\n",
    "|----------|-----------|----------------------------------------------------|\n",
    "| 1        | 14        | Analisi dimensionale                               |\n",
    "| 1        | 15        | Analisi dimensionale                               |\n",
    "| 1        | 25        | Conversioni unità di misura                        |\n",
    "| 1        | 32        | Conversioni unità di misura                        |\n",
    "| 2        | 27        | Moto uniformemente accelerato                      |\n",
    "| 2        | 31        | Moto uniformemente accelerato                      |\n",
    "| 2        | 38        | Moto uniformemente accelerato                      |\n",
    "| 2        | 43        | Moto uniformemente accelerato                      |\n",
    "| 2        | 45        | Moto uniformemente accelerato                      |\n",
    "| 2        | 62        | Caduta libera e moto rettilineo uniforme          |\n",
    "| 2        | 65        | Moto rettilineo uniforme e uniformemente accelerato |\n",
    "| 3        | 4         | Vettori                                            |\n",
    "| 3        | 10        | Caduta libera                                      |\n",
    "| 3        | 15        | Coordinate cartesiane e polari                      |\n",
    "| 4        | 5         | Operazioni su vettori                              |\n",
    "| 4        | 24        | Operazioni su vettori                              |\n",
    "| 4        | 29        | Moto circolare                                     |\n",
    "| 4        | 32        | Moto circolare                                     |\n",
    "| 4        | 49        | Moto circolare e moto parabolico (*)               |\n",
    "| 5        | 36        | Attrito                                            |\n",
    "| 5        | 46        | Attrito                                            |\n",
    "| 5        | 58        | Piano inclinato e moto parabolico (*)              |\n",
    "| 6        | 4         | Forza centripeta                                   |\n",
    "| 6        | 36        | Tensione e attrito viscoso (*)                      |\n",
    "| 6        | 37        | Attrito viscoso                                    |\n",
    "| 6        | 58        | Tensione e accelerazione centripeta (*)             |\n",
    "| 7        | 34        | Lavoro                                             |\n",
    "| 8        | 19        | Forza elastica e conservazione dell'energia       |\n",
    "| 8        | 54        | Attrito, forza elastica e piano inclinato         |\n",
    "| 8        | 61        | Forza elastica e forza centripeta (*)              |\n",
    "| 8        | 65        | Conservazione dell'energia                         |\n",
    "| 8        | 72        | Conservazione dell'energia                         |\n",
    "| 8        | 73        | Forza centripeta                                   |\n"
   ]
  },
  {
   "cell_type": "markdown",
   "metadata": {},
   "source": [
    "### Example 8.4 \n",
    "\n",
    "You are designing an apparatus to support an actor of mass 65 kg who is to “fly” down to the stage during the performance of a play. You attach the actor’s harness to a 130-kg sandbag by means of a lightweight steel cable running smoothly over two frictionless pulleys, as in Figure 8.8a. You need 3.0 m of cable between the harness and the nearest pulley so that the pulley can be hidden behind a curtain. \n",
    "\n",
    "For the apparatus to work successfully, the sandbag must never lift above the floor as the actor swings from above the stage to the floor. Let us call the initial angle that the actor’s cable makes with the vertical $\\theta$. What is the maximum value $\\theta$ can have before the sandbag lifts off the floor?\n"
   ]
  },
  {
   "cell_type": "markdown",
   "metadata": {},
   "source": []
  }
 ],
 "metadata": {
  "language_info": {
   "name": "python"
  }
 },
 "nbformat": 4,
 "nbformat_minor": 2
}
