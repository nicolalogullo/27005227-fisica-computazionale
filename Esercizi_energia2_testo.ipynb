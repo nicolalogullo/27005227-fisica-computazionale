{
 "cells": [
  {
   "cell_type": "markdown",
   "id": "36baf0a8",
   "metadata": {},
   "source": [
    "# Esercitazione #08 - Fisica Computazionale\n",
    "\n",
    "Utilizziamo il principio di conservazione dell'energia per risolvere alcuni esercizi tratti o adattati da \"Physics for Scientists and Engineers\", 6th Edition, capitoli 7 e 8.\n"
   ]
  },
  {
   "cell_type": "markdown",
   "id": "3f45f280",
   "metadata": {},
   "source": [
    "# **Conservazione dell'energia - richiami di teoria:**\n",
    "\n",
    "### **Principio di conservazione dell'energia meccanica**\n",
    "\n",
    "In un sistema isolato, in assenza di forze non conservative l'energia meccanica rimane costante, ovvero la sua variazione tra due istanti qualsiasi è sempre nulla:\n",
    "$$E_f-E_i = 0$$\n",
    "L'energia meccanica è la somma di energia cinetica e potenziale:\n",
    "$$E=E_c+U$$\n",
    "L'**energia cinetica** è legata alla velocità del corpo:\n",
    "$$E_c=\\frac{1}{2}mv^2$$\n",
    "mentre l'**energia potenziale** può essere la somma di diversi termini: abbiamo incontrato finora l'**energia potenziale gravitazionale** \n",
    "$$U_g=mgh$$ \n",
    "e l'**energia potenziale elastica** \n",
    "$$U_{el}=\\frac{1}{2}kx^2$$\n",
    "\n",
    "**In presenza di forze non conservative** $\\vec{F_{nc}}$ (per esempio le forze di attrito radente o viscoso) va considerato anche il lavoro $L_{nc}$ che queste compiono:\n",
    "$$E_f-E_i = L_{nc}$$\n",
    "Quindi l'energia meccanica non si conserva (ma l'energia totale sì!). \n",
    "\n",
    "Nel caso specifico dell'attrito, il lavoro è sempre ***resistente***, cioè si oppone al movimento, e perciò negativo: la parte di energia meccanica che è apparentemente scomparsa è stata in verità dissipata in calore.\n",
    "\n",
    "Infine, il **teorema dell'energia cinetica** (o teorema delle forze vive) afferma che la variazione in energia cinetica di un corpo è pari al lavoro totale fatto dalle forze:\n",
    "$$L= K_f-K_i $$"
   ]
  },
  {
   "cell_type": "markdown",
   "id": "1de4abb1",
   "metadata": {},
   "source": [
    "### Esercizio 35 pag. 212\n",
    "\n",
    "Una slitta di massa $m$ riceve una spinta su uno stagno ghiacciato, che le dà una velocità iniziale di 2,00 m/s. Il coefficiente di attrito dinamico tra la slitta e il ghiaccio è 0,100. Utilizza il principio di conservazione dell'energia per determinare la distanza percorsa dalla slitta prima che si fermi.\n",
    "\n",
    "\n",
    "Risolvi lo stesso esercizio utilizzando le formule della cinematica sui moti e confronta i risultati."
   ]
  },
  {
   "cell_type": "markdown",
   "id": "45f373a5",
   "metadata": {},
   "source": [
    "### Example 8.5\n",
    "\n",
    "Il meccanismo di lancio di una pistola giocattolo consiste in una molla di costante elastica incognita (vedi fig8pt9.png). Quando la molla viene compressa di $0.120\\ \\text{m}$, la pistola, se tenuta verticalmente, è in grado di lanciare un proiettile da $35.0\\ \\text{g}$ fino a un'altezza massima di $20.0\\ \\text{m}$ rispetto alla posizione del proiettile prima del lancio.\n",
    "\n",
    "1. Trascurando tutte le forze di attrito, determina la costante elastica della molla.\n",
    "\n",
    "2. Trova la velocità del proiettile mentre attraversa la posizione di equilibrio della molla (dove $x_B = 0.120\\ \\text{m}$), come mostrato in Figura 8.9b.\n",
    "\n"
   ]
  },
  {
   "cell_type": "markdown",
   "id": "98686cdd",
   "metadata": {},
   "source": [
    "### Example 8.9\n",
    "\n",
    "Un blocco di massa $0.80\\ \\text{kg}$ viene lanciato con una velocità iniziale $v_A = 1.2\\ \\text{m/s}$ verso destra e collide con una molla di massa trascurabile e costante elastica $k = 50\\ \\text{N/m}$, come mostrato nella figura in fig8pt14.png.\n",
    "\n",
    "1. Supponendo che la superficie sia priva di attrito, calcola la compressione massima della molla dopo la collisione.\n",
    "\n",
    "Supponi ora che tra il blocco e la superficie agisca una forza costante di attrito dinamico, con coefficiente $\\mu_d = 0.20$. \n",
    "\n",
    "2. Se la velocità del blocco nel momento in cui collide con la molla è $v_A = 1.2\\ \\text{m/s}$, qual è la compressione massima $x_C$ della molla?\n",
    "\n",
    "3. In quale posizione si fermerà il corpo?\n",
    "\n",
    "4. Simula il moto del corpo con l'algoritmo di Eulero, facendo un grafico di posizione, velocità ed energia e confronta i risultati con quelli ottenuti analiticamente.\n",
    "\n"
   ]
  },
  {
   "cell_type": "markdown",
   "id": "7d09f43d",
   "metadata": {},
   "source": [
    "# Homework:"
   ]
  },
  {
   "cell_type": "markdown",
   "id": "ef2fd432",
   "metadata": {},
   "source": [
    "### Esercizio 10 pag. 241\n",
    "\n",
    "An object of mass m starts from rest and slides a distance d down a frictionless incline of angle $\\theta$. While sliding, it contacts an unstressed spring of negligible mass as shown in Figure homework.png. The object slides an additional distance x as it is brought momentarily to rest by compression of the spring (of force constant k). Find the initial separation d between object and spring.\n"
   ]
  },
  {
   "cell_type": "markdown",
   "id": "8c4d164b",
   "metadata": {},
   "source": []
  }
 ],
 "metadata": {
  "kernelspec": {
   "display_name": "qml_venv",
   "language": "python",
   "name": "python3"
  },
  "language_info": {
   "codemirror_mode": {
    "name": "ipython",
    "version": 3
   },
   "file_extension": ".py",
   "mimetype": "text/x-python",
   "name": "python",
   "nbconvert_exporter": "python",
   "pygments_lexer": "ipython3",
   "version": "3.12.4"
  }
 },
 "nbformat": 4,
 "nbformat_minor": 5
}
