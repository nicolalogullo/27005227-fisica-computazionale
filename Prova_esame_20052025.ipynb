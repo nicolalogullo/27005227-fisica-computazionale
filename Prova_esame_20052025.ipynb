{
 "cells": [
  {
   "cell_type": "markdown",
   "id": "ffc7c2fd-8e8e-44a5-9660-615cddba21fa",
   "metadata": {},
   "source": [
    "# Esercitazione 20/05/2025\n",
    "## Fisica Computazionale – gruppo A\n",
    "\n",
    "**Simulazione prova d'esame**"
   ]
  },
  {
   "cell_type": "markdown",
   "id": "db5b1517-93af-4094-b16f-3c1ccc3fe4e4",
   "metadata": {},
   "source": [
    "## **Esercizio 1**\n",
    "**Traccia:** Dati i vettori:\n",
    "$$\\mathbf{A} = (3,4), \\;\\; \\mathbf{B} = (-2,5)$$\n",
    "Calcola il vettore somma $\\mathbf{C}=\\mathbf{A}+\\mathbf{B}$ e determina il modulo e l'angolo $\\theta$ che il vettore forma con l'asse $x$.\n"
   ]
  },
  {
   "cell_type": "code",
   "execution_count": null,
   "id": "55daebe5-03f7-4cca-b198-ae6699ae55c0",
   "metadata": {},
   "outputs": [],
   "source": []
  },
  {
   "cell_type": "code",
   "execution_count": null,
   "id": "9f9e2f16-3685-4d63-bf44-9f4a9d61c943",
   "metadata": {},
   "outputs": [],
   "source": []
  },
  {
   "cell_type": "code",
   "execution_count": null,
   "id": "395e708b-fc44-4004-be07-799e695cad73",
   "metadata": {},
   "outputs": [],
   "source": []
  },
  {
   "cell_type": "code",
   "execution_count": null,
   "id": "bc6c52de-f0ec-44c5-a270-14ddfde3ac75",
   "metadata": {},
   "outputs": [],
   "source": []
  },
  {
   "cell_type": "code",
   "execution_count": null,
   "id": "904d99eb-0891-4c3a-b408-ae9000214f8d",
   "metadata": {},
   "outputs": [],
   "source": []
  },
  {
   "cell_type": "code",
   "execution_count": null,
   "id": "3aa43331-e06a-44be-a4a7-2d417a263be6",
   "metadata": {},
   "outputs": [],
   "source": []
  },
  {
   "cell_type": "code",
   "execution_count": null,
   "id": "beab58a7-4f6f-4496-927b-0411ab7119eb",
   "metadata": {},
   "outputs": [],
   "source": []
  },
  {
   "cell_type": "code",
   "execution_count": null,
   "id": "04ad3c9d-d3d0-44dd-bfcc-8c0defbb0b76",
   "metadata": {},
   "outputs": [],
   "source": []
  },
  {
   "cell_type": "code",
   "execution_count": null,
   "id": "87dcd8e3-2702-4936-a1e1-c850cdf5538e",
   "metadata": {},
   "outputs": [],
   "source": []
  },
  {
   "cell_type": "code",
   "execution_count": null,
   "id": "25047686-6d3a-4f61-92ab-45b41e105622",
   "metadata": {},
   "outputs": [],
   "source": []
  },
  {
   "cell_type": "code",
   "execution_count": null,
   "id": "ced44974-e475-4b68-8ec4-938d31b8c8c9",
   "metadata": {},
   "outputs": [],
   "source": []
  },
  {
   "cell_type": "code",
   "execution_count": null,
   "id": "95a54767-0edb-4e71-8d60-3bc0d6a2c053",
   "metadata": {},
   "outputs": [],
   "source": []
  },
  {
   "cell_type": "code",
   "execution_count": null,
   "id": "fb29bc53-3bc3-4c2e-a843-685ea1731c47",
   "metadata": {},
   "outputs": [],
   "source": []
  },
  {
   "cell_type": "markdown",
   "id": "0b55907d-5a33-4765-ae1d-d074153313d0",
   "metadata": {},
   "source": [
    "## **Esercizio 2**\n",
    "\n",
    "**Traccia:** Una slitta di massa $m$ riceve una spinta su uno stagno ghiacciato, che le dà una velocità iniziale di $2.00$ m/s. Il coefficiente di attrito dinamico tra la slitta e il ghiaccio è $\\mu_d = 0.100$. Utilizza il principio di conservazione dell'energia per determinare la distanza percorsa dalla slitta prima che si fermi.\n",
    "\n",
    "Risolvi lo stesso esercizio utilizzando le formule della cinematica sui moti e confronta i risultati."
   ]
  },
  {
   "cell_type": "markdown",
   "id": "7c5150b8-074e-4cd8-9995-dd36ae4920dc",
   "metadata": {},
   "source": [
    "## **Esercizio 3**\n",
    "\n",
    "**Traccia:** Due carrelli si muovono su un piano orizzontale liscio senza attrito. Il carrello A ha massa $m_A = 2\\,\\mathrm{kg}$ e velocità iniziale \n",
    "$v_A = 4\\,\\mathrm{m/s}$, il carrello B ha massa $m_B = 3\\,\\mathrm{kg}$ ed è inizialmente fermo $v_B = 0$. I due carrelli si scontrano frontalmente e l’urto è perfettamente elastico. Quali sono le velocità dei due carrelli dopo l’urto?\n",
    "Verificare che l’impulso totale e l’energia cinetica totale si conservano"
   ]
  },
  {
   "cell_type": "markdown",
   "id": "3fa67a0b-2a2f-4e4e-8c8c-1728f9f72218",
   "metadata": {},
   "source": [
    "## **Esercizio 4**\n",
    "\n",
    "**Traccia:**\n",
    "Un carrello A di massa $m_A = 1.0\\,\\mathrm{kg}$ si muove su un piano orizzontale liscio con velocità iniziale: $\\vec{v}_A = (2.0, 0.0)\\,\\mathrm{m/s}$. Un carrello B, della stessa massa $m_B = 1.0\\,\\mathrm{kg} $, è inizialmente fermo. Dopo un urto perfettamente elastico, i due carrelli si allontanano con velocità di modulo: $|\\vec{v}_A'| = 1.0\\,\\mathrm{m/s}$ e $|\\vec{v}_B'| = 1.73\\,\\mathrm{m/s}$\n",
    "Sapendo che il carrello A si muove dopo l’urto con un angolo di $60^\\circ$ rispetto alla direzione iniziale determinare l’angolo $\\theta_B'$ che il carrello B forma con la direzione iniziale dopo l’urto.\n",
    "\n",
    "### Suggerimenti\n",
    "\n",
    "- Scomponi le velocità finali in componenti.\n"
   ]
  },
  {
   "cell_type": "markdown",
   "id": "99bf22c1-a1d2-4f30-8264-63ceda70bbae",
   "metadata": {},
   "source": [
    "## **Esercizio 5**\n",
    "**Traccia:** Un blocco di massa $m = 2.0\\,\\mathrm{kg}$ scivola senza attrito lungo un piano inclinato che forma un angolo $\\theta = 30^\\circ$ con l’orizzontale. Il blocco parte da fermo da un’altezza $h = 800\\,\\mathrm{mm}$ rispetto alla base del piano. Alla fine del piano, in corrispondenza della base, c’è una molla di costante elastica $k = 400\\,\\mathrm{N/m}$.\n",
    "Calcolare la compressione della molla, $x_0$ nel momento in cui il blocco si ferma completamente.\n",
    "Se il piano presenta un coefficiente di attrito dinamico $\\mu_d = 0.20$,\n",
    "qual è l'altezza minima $h_m$ da cui deve partire il blocco affinché comprima la molla dello stesso valore $x_0$ trovato prima?"
   ]
  },
  {
   "cell_type": "markdown",
   "id": "63793c2f-9e4b-49db-b3ce-10d5ca65999b",
   "metadata": {},
   "source": [
    "## **Esercizio 6**\n",
    "\n",
    "**Traccia:** Il varo è il momento in cui una nave viene fatta entrare in acqua. In alcuni casi, la nave viene costruita su una rampa inclinata, e lasciata scivolare in mare a lavori ultimati.\n",
    "\n",
    "Considera:\n",
    "- una nave di massa pari a $1.0\\times 10^4$ tonnellate,\n",
    "- su una rampa lunga $100\\ m$.\n",
    "\n",
    "1) Per evitare la formazione di onde violente nel porto, si stima che la velocità di ingresso in acqua della nave non debba superare i 15 m/s. Qual è quindi l'angolo massimo della rampa, in assenza di attrito, perché questa condizione sia rispettata?\n",
    "\n",
    "2) Come cambia l'angolo in presenza di attrito dinamico ($\\mu_d=0.070$)? Quanto è in Joule il lavoro fatto dalle forze non conservative?"
   ]
  },
  {
   "cell_type": "markdown",
   "id": "d7b0d666-4288-4221-affc-522a8e600579",
   "metadata": {},
   "source": [
    "## **Esercizio 7**\n",
    "\n",
    "**Traccia:** Consideriamo la seguente equazione differenziale del primo ordine:\n",
    "\n",
    "$$\n",
    "\\frac{dy}{dt} = -k y\n",
    "$$\n",
    "\n",
    "con: $y(0) = 1 $ $ k = 1 $.\n",
    "Questa equazione descrive un semplice decadimento esponenziale.\n",
    "Approssima numericamente la soluzione nel tempo $t \\in [0, 5]$ usando il metodo di Eulero con passo temporale $\\Delta t = 0.1$ e confronta la soluzione numerica con la soluzione esatta:\n",
    "\n",
    "$$\n",
    "y(t) = y_0 e^{-k t}\n",
    "$$\n",
    "\n",
    "Traccia entrambi i risultati in un grafico.\n"
   ]
  },
  {
   "cell_type": "markdown",
   "id": "452dbd1a-66fe-4370-ac44-a60d34e8a0c4",
   "metadata": {},
   "source": [
    "## **Esercizio 8**\n",
    "\n",
    "**Traccia:** Consideriamo un pendolo smorzato e forzato descritto dal sistema di equazioni:\n",
    "\n",
    "$$\n",
    "\\begin{cases}\n",
    "\\frac{d\\theta}{dt} = \\omega \\\\\n",
    "\\\\\n",
    "\\frac{d\\omega}{dt} = -\\frac{g}{l} \\sin(\\theta) - \\gamma \\, \\omega + A \\cos(\\omega_f t)\n",
    "\\end{cases}\n",
    "$$\n",
    "\n",
    "dove:\n",
    "\n",
    "- $\\theta(t) $ è l'angolo di spostamento,\n",
    "- $\\omega(t) = \\frac{d\\theta}{dt} $ è la velocità angolare,\n",
    "- $g = 9.81\\, \\mathrm{m/s^2} $ è l'accelerazione di gravità,\n",
    "- $l = 1.0\\, \\mathrm{m} $ è la lunghezza del pendolo,\n",
    "- $\\gamma = 0.1 $ è il coefficiente di smorzamento,\n",
    "- $A = 0.5 $ è l'ampiezza della forza forzante,\n",
    "- $\\omega_f = 1.2 $ è la frequenza angolare della forza forzante.\n",
    "\n",
    "Usa il **metodo di Heun** per risolvere numericamente il sistema nell'intervallo temporale $t \\in [0, 50]$ con passo temporale $\\Delta t = 0.05$ e condizioni iniziali: $\\theta(0) = 0$ e $\\omega(0) = 0$.\n",
    "Infine, traccia i grafici di $\\theta(t) $ e $\\omega(t) $ in funzione del tempo.\n",
    "\n",
    "**Suggerimenti per il Metodo di Heun***\n",
    "\n",
    "Per ogni passo temporale $t_n \\to t_{n+1} = t_n + \\Delta t$:\n",
    "\n",
    "1. Calcola la predizione con Eulero esplicito:\n",
    "\n",
    "$$\n",
    "\\begin{cases}\n",
    "\\theta^{(p)} = \\theta_n + \\Delta t \\, f_1(t_n, \\theta_n, \\omega_n) \\\\\n",
    "\\omega^{(p)} = \\omega_n + \\Delta t \\, f_2(t_n, \\theta_n, \\omega_n)\n",
    "\\end{cases}\n",
    "$$\n",
    "\n",
    "dove:\n",
    "\n",
    "$$\n",
    "f_1(t, \\theta, \\omega) = \\omega, \\quad f_2(t, \\theta, \\omega) = -\\frac{g}{l} \\sin(\\theta) - \\gamma \\omega + A \\cos(\\omega_f t)\n",
    "$$\n",
    "\n",
    "2. Correggi la stima usando la media delle pendenze:\n",
    "\n",
    "$$\n",
    "\\begin{cases}\n",
    "\\theta_{n+1} = \\theta_n + \\frac{\\Delta t}{2} \\left[ f_1(t_n, \\theta_n, \\omega_n) + f_1(t_{n+1}, \\theta^{(p)}, \\omega^{(p)}) \\right] \\\\\n",
    "\\omega_{n+1} = \\omega_n + \\frac{\\Delta t}{2} \\left[ f_2(t_n, \\theta_n, \\omega_n) + f_2(t_{n+1}, \\theta^{(p)}, \\omega^{(p)}) \\right]\n",
    "\\end{cases}\n",
    "$$\n"
   ]
  }
 ],
 "metadata": {
  "kernelspec": {
   "display_name": "Python 3 (ipykernel)",
   "language": "python",
   "name": "python3"
  },
  "language_info": {
   "codemirror_mode": {
    "name": "ipython",
    "version": 3
   },
   "file_extension": ".py",
   "mimetype": "text/x-python",
   "name": "python",
   "nbconvert_exporter": "python",
   "pygments_lexer": "ipython3",
   "version": "3.11.5"
  }
 },
 "nbformat": 4,
 "nbformat_minor": 5
}
