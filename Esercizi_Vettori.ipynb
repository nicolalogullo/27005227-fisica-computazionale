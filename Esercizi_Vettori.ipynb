{
 "cells": [
  {
   "cell_type": "markdown",
   "id": "3425e0c9-89cf-4605-afa5-6bed39afa2f7",
   "metadata": {
    "tags": []
   },
   "source": [
    "# Esercitazione 11/04/2025\n",
    "## Fisica Computazionale – gruppo A\n",
    "\n",
    "**Esercizi sui vettori e grafici.**\n",
    "---"
   ]
  },
  {
   "cell_type": "markdown",
   "id": "6a7d45c6-7e24-44ed-9100-044deebc9472",
   "metadata": {
    "tags": []
   },
   "source": [
    "## **Esercizio 1: Somma di due vettori**\n",
    "**Traccia:** Dati i vettori:\n",
    "$$\\mathbf{A} = (3,4), \\;\\; \\mathbf{B} = (-2,5)$$\n",
    "Calcola il vettore somma $\\mathbf{C}=\\mathbf{A}+\\mathbf{B}$ e determina il suo modulo."
   ]
  },
  {
   "cell_type": "code",
   "execution_count": 2,
   "id": "9ffad71b-c512-4e9e-8fbb-5eaa2f67ca9a",
   "metadata": {
    "tags": []
   },
   "outputs": [],
   "source": [
    "# Scrivi qui il tuo codice"
   ]
  },
  {
   "cell_type": "markdown",
   "id": "a78548b3",
   "metadata": {},
   "source": [
    "Scrivi una funzione che dati due vettori generici $a$, $b$ ne calcoli la somma."
   ]
  },
  {
   "cell_type": "code",
   "execution_count": null,
   "id": "101bac10",
   "metadata": {},
   "outputs": [],
   "source": [
    "# Scrivi qui il tuo codice"
   ]
  },
  {
   "cell_type": "markdown",
   "id": "b37d59e7",
   "metadata": {},
   "source": [
    "Scriviamo ora una funzione che data una lista di $N$ vettori generici $a, b, c, \\ldots$ ne restituisca la somma."
   ]
  },
  {
   "cell_type": "code",
   "execution_count": null,
   "id": "61a8c041",
   "metadata": {},
   "outputs": [
    {
     "name": "stdout",
     "output_type": "stream",
     "text": [
      "La somma dei 3 vettori dati è il vettore: [0 8]\n"
     ]
    }
   ],
   "source": [
    "import numpy as np\n",
    "\n",
    "def somma_vettori(lista_vettori):\n",
    "    somma = np.zeros_like(lista_vettori[0])    # per inizializzare a zero il vettore somma. Qual è la differenza con np.array([0,0])?\n",
    "\n",
    "    for vettore in lista_vettori:\n",
    "        somma += vettore\n",
    "\n",
    "    return somma\n",
    "\n",
    "a = np.array([2,5])\n",
    "b = np.array([-6,3])\n",
    "c = np.array([4,0])\n",
    "\n",
    "vecs = [a,b,c]\n",
    "\n",
    "print(f'La somma dei {len(vecs)} vettori dati è il vettore:', somma_vettori(vecs))"
   ]
  },
  {
   "cell_type": "markdown",
   "id": "3fef97cc-454a-481e-85b2-ddecd945dd86",
   "metadata": {},
   "source": [
    "## **Esercizio 2: Angolo di un vettore con l'asse x**\n",
    "\n",
    "**Traccia:** Dato il vettore $\\mathbf{C}$ dell'esercizion precedente, calcolare l'angolo $\\theta$ che il vettore forma con l'asse $x$.\n"
   ]
  },
  {
   "cell_type": "code",
   "execution_count": 3,
   "id": "7213ef11-7fb9-4884-a9f7-f7dfa75862b8",
   "metadata": {
    "tags": []
   },
   "outputs": [],
   "source": [
    "# Scrivi qui il tuo codice"
   ]
  },
  {
   "cell_type": "markdown",
   "id": "2ddf0d48-c60e-4134-ae3f-e84457c16ac4",
   "metadata": {
    "tags": []
   },
   "source": [
    "## **Esercizio 3: Combinazione lineare di vettori**\n",
    "**Traccia:** Dati i vettori:\n",
    "$$\\mathbf{G} = (2,-1), \\;\\; \\mathbf{H} = (-3,4)$$\n",
    "calcoliamo la combinazione lineare:\n",
    "$\\mathbf{J} = 2\\mathbf{G} + 3\\mathbf{H}$, il modulo di $\\mathbf{J}$ e l'angolo che forma con l'asse $x$ espresso in gradi positivi."
   ]
  },
  {
   "cell_type": "code",
   "execution_count": 22,
   "id": "61a5a327-0475-4478-959f-1fd46da13ce6",
   "metadata": {
    "tags": []
   },
   "outputs": [],
   "source": [
    "# Scrivi qui il tuo codice"
   ]
  },
  {
   "cell_type": "markdown",
   "id": "8bc4eca7",
   "metadata": {},
   "source": [
    "Scriviamo ora una funzione per la combinazione lineare di $N$ vettori (ognuno con il proprio coefficiente). \n",
    "\n",
    "Controlla che:\n",
    "- se i coefficienti sono tutti uguali a 1 il risultato è uguale alla somma;\n",
    "- se i coefficienti sono tutti 0 il risultato è il vettore nullo."
   ]
  },
  {
   "cell_type": "code",
   "execution_count": 19,
   "id": "607e0252",
   "metadata": {},
   "outputs": [
    {
     "name": "stdout",
     "output_type": "stream",
     "text": [
      "La combinazione lineare dei 3 vettori con i coefficienti dati è il vettore: [ 4 -2]\n"
     ]
    }
   ],
   "source": [
    "import numpy as np\n",
    "\n",
    "def combinazione_lineare(lista_vettori, lista_coefficienti):\n",
    "    if len(lista_vettori) != len(lista_coefficienti):\n",
    "        print('Attenzione: il numero di coefficienti deve essere uguale al numero di vettori!')\n",
    "        return\n",
    "    comblin = np.zeros_like(lista_vettori[0])    # inizializzazione della combinazione lineare\n",
    "\n",
    "    for vettore, coefficiente in zip(lista_vettori, lista_coefficienti):\n",
    "        comblin += vettore*coefficiente\n",
    "\n",
    "    return comblin\n",
    "\n",
    "a = np.array([2,5])\n",
    "b = np.array([-6,3])\n",
    "c = np.array([4,0])\n",
    "\n",
    "vecs = [a,b,c]\n",
    "coeffs = [-1,1,3]\n",
    "\n",
    "print(f'La combinazione lineare dei {len(vecs)} vettori con i coefficienti dati è il vettore:', combinazione_lineare(vecs, coeffs))"
   ]
  },
  {
   "cell_type": "markdown",
   "id": "06624ac8-43e1-436b-aeb2-653bb15ac38b",
   "metadata": {
    "tags": []
   },
   "source": [
    "## **Esercizio 4: Somma di vettori in forma polare**\n"
   ]
  },
  {
   "cell_type": "markdown",
   "id": "ed574e07-9345-421e-9224-073a170f9de9",
   "metadata": {},
   "source": [
    "**Traccia:**  Dati i vettori: $\\mathbf{K}$ con modulo 5 e angolo con l'asse x $\\theta = 30^\\circ$ e\n",
    "$\\mathbf{L}$ con modulo 8 e angolo con l'asse x $\\theta = 120^\\circ$, calcolare il vettore somma $\\mathbf{S}$ e il modulo di $\\mathbf{S}$."
   ]
  },
  {
   "cell_type": "code",
   "execution_count": 24,
   "id": "b2966e86-7322-44c6-8134-5f88c7b2be1f",
   "metadata": {
    "tags": []
   },
   "outputs": [],
   "source": [
    "# Scrivi qui il tuo codice"
   ]
  },
  {
   "cell_type": "markdown",
   "id": "3951216f-be6e-4aa2-b91f-08905febf95c",
   "metadata": {},
   "source": [
    "## **Esercizio 5: Differenza di vettori in forma polare**\n",
    "**Traccia:**  Dati i vettori: $\\mathbf{P}$ con modulo 6 e angolo con l'asse x $\\theta = 45^\\circ$ e\n",
    "$\\mathbf{Q}$ con modulo 10 e angolo con l'asse x $\\theta = 200^\\circ$, calcolare il vettore differenza $\\mathbf{D}$ e il modulo di $\\mathbf{D}$, e langolo formato tra il vettore $\\mathbf{D}$ e l'asse $x$."
   ]
  },
  {
   "cell_type": "code",
   "execution_count": null,
   "id": "eba631cb-0132-48ba-87e0-dbb9a53a3a29",
   "metadata": {},
   "outputs": [],
   "source": [
    "# Scrivi qui il tuo codice"
   ]
  },
  {
   "cell_type": "markdown",
   "id": "007cdc07",
   "metadata": {},
   "source": [
    "Scrivi due funzioni che:\n",
    "- date le coordinate polari $R$, $\\theta$ di un vettore bidimensionale restituisca lo stesso vettore espresso in componenti cartesiane $v=(v_x,v_y)$.\n",
    "- dato un vettore bidimensionale espresso in componenti cartesiane $v=(v_x,v_y)$ restituisca le sue coordinate polari $R$, $\\theta$;\n",
    "\n"
   ]
  },
  {
   "cell_type": "code",
   "execution_count": 41,
   "id": "1225216b",
   "metadata": {},
   "outputs": [
    {
     "name": "stdout",
     "output_type": "stream",
     "text": [
      "Il vettore di modulo 2 che forma un angolo di 315 gradi con l'asse x è: [ 1.41421356 -1.41421356]\n"
     ]
    }
   ],
   "source": [
    "def da_polari_a_cartesiane(modulo, angolo):     # l'angolo è espresso in gradi\n",
    "    angolo = angolo * np.pi / 180               # per trasformare da gradi in radianti       \n",
    "    vx = modulo * np.cos(angolo)\n",
    "    vy = modulo * np.sin(angolo)\n",
    "    return np.array([vx, vy])\n",
    "\n",
    "r, theta = 2, 315\n",
    "print(f'Il vettore di modulo {r} che forma un angolo di {theta} gradi con l\\'asse x è: {da_polari_a_cartesiane(r, theta)}')\n"
   ]
  },
  {
   "cell_type": "code",
   "execution_count": 39,
   "id": "283d3263",
   "metadata": {},
   "outputs": [
    {
     "name": "stdout",
     "output_type": "stream",
     "text": [
      "Il vettore [ 1.73205081 -1.        ] ha modulo 2 e forma un angolo di -30 gradi con l'asse x.\n"
     ]
    }
   ],
   "source": [
    "\n",
    "\n",
    "def da_cartesiane_a_polari(v):        \n",
    "    vx = v[0]\n",
    "    vy = v[1]\n",
    "    v_modulo = np.sqrt(np.sum(v**2))\n",
    "    if vx > 0:\n",
    "        v_angolo = np.arctan(vy/vx) * 180 / np.pi   # numpy dà sempre il risultato in radianti! Dobbiamo convertire in gradi\n",
    "    elif vx < 0:\n",
    "        v_angolo = np.arctan(vy/vx) * 180 / np.pi + 180\n",
    "    # dobbiamo trattare separatamente i due casi in cui vx è uguale a zero!\n",
    "    elif vx == 0:\n",
    "        if vy > 0:\n",
    "            return v_modulo, 90\n",
    "        elif vy < 0:\n",
    "            return v_modulo, 270\n",
    "    # l'unico caso rimasto è il vettore nullo (0,0), per cui le coordinate polari non sono ben definite\n",
    "    else:\n",
    "        print('Attenzione: per il vettore nullo (modulo = 0) l\\'angolo non è ben definito.')\n",
    "        return\n",
    "    \n",
    "    return v_modulo, v_angolo\n",
    "\n",
    "\n",
    "vettore = np.array([np.sqrt(3),-1])\n",
    "\n",
    "r, theta = da_cartesiane_a_polari(vettore)\n",
    "print(f'Il vettore {vettore} ha modulo {r:.3g} e forma un angolo di {theta:.3g} gradi con l\\'asse x.')\n",
    "\n",
    "    "
   ]
  },
  {
   "cell_type": "code",
   "execution_count": null,
   "id": "c1d20734",
   "metadata": {},
   "outputs": [],
   "source": []
  }
 ],
 "metadata": {
  "kernelspec": {
   "display_name": "qml_venv",
   "language": "python",
   "name": "python3"
  },
  "language_info": {
   "codemirror_mode": {
    "name": "ipython",
    "version": 3
   },
   "file_extension": ".py",
   "mimetype": "text/x-python",
   "name": "python",
   "nbconvert_exporter": "python",
   "pygments_lexer": "ipython3",
   "version": "3.12.4"
  }
 },
 "nbformat": 4,
 "nbformat_minor": 5
}
