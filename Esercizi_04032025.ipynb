{
 "cells": [
  {
   "cell_type": "markdown",
   "metadata": {},
   "source": [
    "# Esercitazione 04/03/2025\n",
    "## Fisica Computazionale – gruppo A\n",
    "\n",
    "**Esercizi di cinematica, conversioni di unità, calcoli numerici e grafici.**\n",
    "---"
   ]
  },
  {
   "cell_type": "markdown",
   "metadata": {
    "tags": []
   },
   "source": [
    "## **Esercizio 1: Moto rettilineo uniforme**\n",
    "**Traccia:** Un'auto si muove a velocità costante di 18 km/h. Determinare la posizione dell'auto in funzione del tempo da t = 0 fino a t = 20 secondi. Convertire le unità di velocità in m/s e realizzare un grafico della posizione in funzione del tempo."
   ]
  },
  {
   "cell_type": "code",
   "execution_count": null,
   "metadata": {},
   "outputs": [],
   "source": [
    "# Scrivi qui il tuo codice\n"
   ]
  },
  {
   "cell_type": "markdown",
   "metadata": {},
   "source": [
    "## **Esercizio 2: Moto uniformemente accelerato**\n",
    "**Traccia:** Un ciclista parte da fermo con un'accelerazione costante di 7.2 km/h². Determinare la sua posizione e velocità in funzione del tempo da t = 0 fino a t = 10 secondi. Convertire l'accelerazione in m/s² e tracciare i grafici della posizione e della velocità nel tempo."
   ]
  },
  {
   "cell_type": "code",
   "execution_count": null,
   "metadata": {},
   "outputs": [],
   "source": [
    "# Scrivi qui il tuo codice\n"
   ]
  },
  {
   "cell_type": "markdown",
   "metadata": {},
   "source": [
    "## **Esercizio 3: Caduta libera**\n",
    "**Traccia:** Un oggetto viene lasciato cadere da un'altezza di 80 metri senza velocità iniziale. La gravità è 32 piedi/s². Determinare il tempo di caduta, la posizione e la velocità in funzione del tempo. Convertire la gravità in m/s² e tracciare i grafici della posizione e della velocità nel tempo."
   ]
  },
  {
   "cell_type": "code",
   "execution_count": null,
   "metadata": {},
   "outputs": [],
   "source": [
    "# Scrivi qui il tuo codice\n"
   ]
  },
  {
   "cell_type": "markdown",
   "metadata": {},
   "source": [
    "## **Esercizio 4: Decelerazione di un'auto**\n",
    "**Traccia:** Un'auto viaggia a 90 km/h e frena con un'accelerazione costante di -5 m/s². Determinare il tempo di arresto e la distanza percorsa prima di fermarsi. Tracciare il grafico della velocità e della posizione nel tempo."
   ]
  },
  {
   "cell_type": "code",
   "execution_count": null,
   "metadata": {},
   "outputs": [],
   "source": [
    "# Scrivi qui il tuo codice\n"
   ]
  },
  {
   "cell_type": "markdown",
   "metadata": {},
   "source": [
    "## **Esercizio 5: Velocità media di un corridore**\n",
    "**Traccia:** Un corridore percorre 0.1 chilometri nei primi 10 secondi e altri 100 metri nei successivi 8 secondi. Determinare la velocità media nei due intervalli e la velocità media totale. Tracciare il grafico della posizione in funzione del tempo."
   ]
  },
  {
   "cell_type": "code",
   "execution_count": null,
   "metadata": {},
   "outputs": [],
   "source": [
    "# Scrivi qui il tuo codice\n"
   ]
  }
 ],
 "metadata": {
  "kernelspec": {
   "display_name": "Python 3 (ipykernel)",
   "language": "python",
   "name": "python3"
  },
  "language_info": {
   "codemirror_mode": {
    "name": "ipython",
    "version": 3
   },
   "file_extension": ".py",
   "mimetype": "text/x-python",
   "name": "python",
   "nbconvert_exporter": "python",
   "pygments_lexer": "ipython3",
   "version": "3.11.5"
  }
 },
 "nbformat": 4,
 "nbformat_minor": 4
}
