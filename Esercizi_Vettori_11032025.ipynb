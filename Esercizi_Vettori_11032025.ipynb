{
 "cells": [
  {
   "cell_type": "markdown",
   "id": "3425e0c9-89cf-4605-afa5-6bed39afa2f7",
   "metadata": {
    "tags": []
   },
   "source": [
    "# Esercitazione 11/03/2025\n",
    "## Fisica Computazionale – gruppo A\n",
    "\n",
    "**Esercizi sui vettori e grafici.**\n",
    "---"
   ]
  },
  {
   "cell_type": "markdown",
   "id": "6a7d45c6-7e24-44ed-9100-044deebc9472",
   "metadata": {
    "tags": []
   },
   "source": [
    "## **Esercizio 1: Somma di due vettori**\n",
    "**Traccia:** Dati i vettori:\n",
    "$$\\mathbf{A} = (3,4), \\;\\; \\mathbf{B} = (-2,5)$$\n",
    "Calcola il vettore somma $\\mathbf{C}=\\mathbf{A}+\\mathbf{B}$ e determina il suo modulo."
   ]
  },
  {
   "cell_type": "code",
   "execution_count": 2,
   "id": "9ffad71b-c512-4e9e-8fbb-5eaa2f67ca9a",
   "metadata": {
    "tags": []
   },
   "outputs": [],
   "source": [
    "# Scrivi qui il tuo codice"
   ]
  },
  {
   "cell_type": "markdown",
   "id": "3fef97cc-454a-481e-85b2-ddecd945dd86",
   "metadata": {},
   "source": [
    "## **Esercizio 2: Angolo di un vettore con l'asse x**\n",
    "\n",
    "**Traccia:** Dato il vettore $\\mathbf{C}$ dell'esercizion precedente, calcolare l'angolo $\\theta$ che il vettore forma con l'asse $x$.\n"
   ]
  },
  {
   "cell_type": "code",
   "execution_count": 3,
   "id": "7213ef11-7fb9-4884-a9f7-f7dfa75862b8",
   "metadata": {
    "tags": []
   },
   "outputs": [],
   "source": [
    "# Scrivi qui il tuo codice"
   ]
  },
  {
   "cell_type": "markdown",
   "id": "2ddf0d48-c60e-4134-ae3f-e84457c16ac4",
   "metadata": {
    "tags": []
   },
   "source": [
    "## **Esercizio 3: Combinazione lineare di vettori**\n",
    "**Traccia:** Dati i vettori:\n",
    "$$\\mathbf{G} = (2,-1), \\;\\; \\mathbf{H} = (-3,4)$$\n",
    "calcoliamo la combinazione lineare:\n",
    "$\\mathbf{J} = 2\\mathbf{G} + 3\\mathbf{H}$, il modulo di $\\mathbf{J}$ e l'angolo che forma con l'asse $x$ espresso in gradi positivi."
   ]
  },
  {
   "cell_type": "code",
   "execution_count": 22,
   "id": "61a5a327-0475-4478-959f-1fd46da13ce6",
   "metadata": {
    "tags": []
   },
   "outputs": [],
   "source": [
    "# Scrivi qui il tuo codice"
   ]
  },
  {
   "cell_type": "markdown",
   "id": "06624ac8-43e1-436b-aeb2-653bb15ac38b",
   "metadata": {
    "tags": []
   },
   "source": [
    "## **Esercizio 4: Somma di vettori in forma polare**\n"
   ]
  },
  {
   "cell_type": "markdown",
   "id": "ed574e07-9345-421e-9224-073a170f9de9",
   "metadata": {},
   "source": [
    "**Traccia:**  Dati i vettori: $\\mathbf{K}$ con modulo 5 e angolo con l'asse x $\\theta = 30^\\circ$ e\n",
    "$\\mathbf{L}$ con modulo 8 e angolo con l'asse x $\\theta = 120^\\circ$, calcolare il vettore somma $\\mathbf{S}$ e il modulo di $\\mathbf{S}$."
   ]
  },
  {
   "cell_type": "code",
   "execution_count": 24,
   "id": "b2966e86-7322-44c6-8134-5f88c7b2be1f",
   "metadata": {
    "tags": []
   },
   "outputs": [],
   "source": [
    "# Scrivi qui il tuo codice"
   ]
  },
  {
   "cell_type": "markdown",
   "id": "3951216f-be6e-4aa2-b91f-08905febf95c",
   "metadata": {},
   "source": [
    "## **Esercizio 5: Differenza di vettori in forma polare**\n",
    "**Traccia:**  Dati i vettori: $\\mathbf{P}$ con modulo 6 e angolo con l'asse x $\\theta = 45^\\circ$ e\n",
    "$\\mathbf{Q}$ con modulo 10 e angolo con l'asse x $\\theta = 200^\\circ$, calcolare il vettore differenza $\\mathbf{D}$ e il modulo di $\\mathbf{D}$, e langolo formato tra il vettore $\\mathbf{D}$ e l'asse $x$."
   ]
  },
  {
   "cell_type": "code",
   "execution_count": null,
   "id": "eba631cb-0132-48ba-87e0-dbb9a53a3a29",
   "metadata": {},
   "outputs": [],
   "source": [
    "# Scrivi qui il tuo codice"
   ]
  }
 ],
 "metadata": {
  "kernelspec": {
   "display_name": "Python 3 (ipykernel)",
   "language": "python",
   "name": "python3"
  },
  "language_info": {
   "codemirror_mode": {
    "name": "ipython",
    "version": 3
   },
   "file_extension": ".py",
   "mimetype": "text/x-python",
   "name": "python",
   "nbconvert_exporter": "python",
   "pygments_lexer": "ipython3",
   "version": "3.11.5"
  }
 },
 "nbformat": 4,
 "nbformat_minor": 5
}
