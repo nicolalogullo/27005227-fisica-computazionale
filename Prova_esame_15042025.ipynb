{
 "cells": [
  {
   "cell_type": "markdown",
   "id": "316dea85-1e4b-4c15-8b96-8d374b9d3404",
   "metadata": {},
   "source": [
    "# Esercitazione 15/04/2025\n",
    "## Fisica Computazionale – gruppo A\n",
    "\n",
    "**Simulazione prova d'esame**"
   ]
  },
  {
   "cell_type": "markdown",
   "id": "d2ddff15-4155-4fd6-a7de-3cc9bae3d2a5",
   "metadata": {
    "tags": []
   },
   "source": [
    "## **Esercizio 1**\n",
    "**Traccia:** Un'auto viene lanciata a folle lungo una collina di una collina che forma un angolo di  $\\theta$  rispetto alla direzione orizzontale. la macchina percorre l'intera collina per poi fermarsi a valle dopo aver percorso un tratto $d$. Sapendo che la collina è alta $h$, calcolare: la lunghezza del tratto percorso lungo la collina, l'accelerazione che l'auto sperimenta lungo la collina,  il tempo necessario a percorrere l'intera lunghezza della collina e la velocità con cui l'auto arriva alla fine della collina. \n",
    "Infine calcolare la distanza $d$ che l'auto percorre sulla strada pianeggiante prima di fermarsi, sapendo che sperimenta un coefficiente di attrito dinamico $\\mu_d$."
   ]
  },
  {
   "cell_type": "markdown",
   "id": "01b8419e-ed96-4775-a5ed-2988ebb091db",
   "metadata": {},
   "source": [
    "## **Esercizio 2**\n",
    "**Traccia:** Considerando il problema precedente,\n",
    "si scriva un semplice programma in Python che simuli il movimento dell'auto lungo la collina e sulla strada pianeggiante, calcolando la posizione e la velocità dell'auto nel tempo per $\\theta = 30^\\circ$, $h = 200$ m, e $\\mu_d = 0.25$.\n",
    "Graficare la posizione e la velocità nel tempo.\n",
    "\n",
    "**SUGGERIMENTI:**\n",
    "\n",
    "**1. Definisci una funzione `simula_auto` che accetta come input i seguenti parametri:**\n",
    "\n",
    "- `h`: l'altezza della collina (in metri)\n",
    "- `theta`: l'angolo della collina (in gradi)\n",
    "- `mu_d`: il coefficiente di attrito dinamico sul tratto orizzontale\n",
    "- `g`: l'accelerazione di gravità (in m/s²)\n",
    "\n",
    "La funzione deve simulare il moto dell'auto sia sulla collina che sulla strada pianeggiante e restituire i seguenti dati:\n",
    "\n",
    "- Un array `t` che rappresenta i tempi in cui vengono calcolati la posizione e la velocità.\n",
    "- Un array `posizione` con la posizione dell'auto nel tempo (in metri).\n",
    "- Un array `velocità` con la velocità dell'auto nel tempo (in m/s).\n",
    "\n",
    "**2. Funzione di simulazione**\n",
    "\n",
    "La simulazione si basa sulle leggi della cinematica, considerando la forza gravitazionale lungo il piano inclinato per la discesa, e la decelerazione causata dall'attrito dinamico sulla strada pianeggiante.\n",
    "\n",
    "**3. Plot dei risultati**\n",
    "\n",
    "Crea due grafici:\n",
    "\n",
    "- **Grafico della posizione dell'auto nel tempo**: Traccia la posizione dell'auto rispetto al tempo per un valore fissato di $\\theta$, $h$ e $\\mu_d$.\n",
    "- **Grafico della velocità dell'auto nel tempo**: Traccia la velocità dell'auto rispetto al tempo per gli stessi valori di $\\theta$, $h$ e $\\mu_d$.\n",
    "\n",
    "**4. Analisi**\n",
    "\n",
    "Prova a variare uno dei parametri ($\\theta$, $h$ o $\\mu_d$) e osserva come cambia la posizione e la velocità nel tempo. Ad esempio, prova a cambiare l'angolo della collina ($\\theta$) e osserva come l'accelerazione e la velocità dell'auto cambiano durante la discesa. Oppure, modifica il coefficiente di attrito dinamico ($\\mu_d$) e analizza come la velocità dell'auto sulla strada pianeggiante diminuisce."
   ]
  },
  {
   "cell_type": "markdown",
   "id": "ed6b2fe4-689c-42ff-b6d2-9621099f5d58",
   "metadata": {},
   "source": [
    "## **Esercizio 3**\n",
    "**Traccia:** Un pendolo semplice è costituito da una massa \n",
    "$m$ sospesa a un filo di lunghezza $L$. Il pendolo oscilla con piccole ampiezze, in modo che il movimento può essere approssimato come armonico. La gravità agisce con un'accelerazione $g$, costante in prossimità della superficie terrestre. Calcolare il periodo di oscillazione del pendolo, ossia il tempo necessario per compiere un'oscillazione completa (andata e ritorno)."
   ]
  },
  {
   "cell_type": "markdown",
   "id": "4c33dc09-ebdd-4ab3-87ce-fffa0b926abd",
   "metadata": {},
   "source": [
    "## **Esercizio 4**\n",
    "**Traccia:** Le equazioni del moto per il pendolo, ottenute dalla seconda legge di Newton, sono:\n",
    "\n",
    "$$\n",
    "\\frac{d\\theta}{dt} = \\omega\n",
    "$$\n",
    "\n",
    "$$\n",
    "\\frac{d\\omega}{dt} = - \\frac{g}{L} \\sin(\\theta)\n",
    "$$\n",
    "\n",
    "Risolvere numericamente le equazioni del moto del pendolo utilizzando il metodo di Heun per determinare l'evoluzione nel tempo della posizione angolare $ \\theta(t) $ e della velocità angolare $\\omega(t) = \\frac{d\\theta}{dt}$.\n",
    "\n",
    "**SUGGERIMENTI**\n",
    "\n",
    "**Implementazione del metodo di Heun**: Scrivi una funzione Python che risolva numericamente le equazioni del moto del pendolo utilizzando il metodo di Heun. La funzione deve prendere come input i seguenti parametri:\n",
    "   - $ \\theta_0 $: angolo iniziale (in radianti)\n",
    "   - $ \\omega_0 $: velocità angolare iniziale (in rad/s)\n",
    "   - $ L $: lunghezza del pendolo (in metri)\n",
    "   - $ g $: accelerazione di gravità (in m/s²)\n",
    "   - $ t_{\\text{max}} $: tempo massimo di simulazione (in secondi)\n",
    "   - $ \\Delta t $: passo temporale (in secondi) \n",
    "   - Assicurati di utilizzare una condizione iniziale per $ \\theta_0$ e $\\omega_0$, come ad esempio $\\theta_0 = 0.1 \\, \\text{rad}$ e $\\omega_0 = 0$.\n",
    "   - Verifica che la tua implementazione del metodo di Heun sia stabile e corretta testando il comportamento del pendolo per diversi valori di $ \\Delta t $.   "
   ]
  },
  {
   "cell_type": "markdown",
   "id": "bc0f1f33-843c-430e-85c7-784d3ed8f36d",
   "metadata": {},
   "source": [
    "## **Esercizio 5**\n",
    "**Traccia:** Una giostra ruota in modo uniforme con raggio $ R $ e compie una rotazione completa in un tempo $ T $ (in secondi). Si desidera calcolare la frequenza di rotazione $f$ della giostra e la velocità tangenziale $ v $ di un punto sulla giostra."
   ]
  },
  {
   "cell_type": "code",
   "execution_count": null,
   "id": "0afdb1a0-548e-4a9f-a372-cfa64605d8c6",
   "metadata": {},
   "outputs": [],
   "source": []
  }
 ],
 "metadata": {
  "kernelspec": {
   "display_name": "Python 3 (ipykernel)",
   "language": "python",
   "name": "python3"
  },
  "language_info": {
   "codemirror_mode": {
    "name": "ipython",
    "version": 3
   },
   "file_extension": ".py",
   "mimetype": "text/x-python",
   "name": "python",
   "nbconvert_exporter": "python",
   "pygments_lexer": "ipython3",
   "version": "3.11.5"
  }
 },
 "nbformat": 4,
 "nbformat_minor": 5
}
