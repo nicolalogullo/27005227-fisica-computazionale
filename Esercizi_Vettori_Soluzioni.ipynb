{
 "cells": [
  {
   "cell_type": "markdown",
   "id": "3425e0c9-89cf-4605-afa5-6bed39afa2f7",
   "metadata": {},
   "source": [
    "# Soluzioni esercitazione 11/04/2025\n",
    "## Fisica Computazionale – gruppo A\n",
    "\n",
    "**Esercizi sui vettori e grafici.**\n",
    "---"
   ]
  },
  {
   "cell_type": "markdown",
   "id": "6a7d45c6-7e24-44ed-9100-044deebc9472",
   "metadata": {
    "tags": []
   },
   "source": [
    "## **Esercizio 1: Somma di due vettori**\n",
    "**Traccia:** Dati i vettori:\n",
    "$$\\mathbf{A} = (3,4), \\;\\; \\mathbf{B} = (-2,5)$$\n",
    "Calcola il vettore somma $\\mathbf{C}=\\mathbf{A}+\\mathbf{B}$ e determina il suo modulo.\n",
    "\n",
    "<details>\n",
    "  <summary> Mostra la Soluzione</summary>\n",
    "    La somma si ottiene sommando le componenti:\n",
    "$$\\mathbf{C}=(3+(−2),4+5)=(1,9)$$\n",
    "    \n",
    "Modulo di C:\n",
    "$$|C|=\\sqrt{1^2 + 9^2}=\\sqrt{82}\\approx9.06$$\n"
   ]
  },
  {
   "cell_type": "code",
   "execution_count": 2,
   "id": "9ffad71b-c512-4e9e-8fbb-5eaa2f67ca9a",
   "metadata": {
    "tags": []
   },
   "outputs": [],
   "source": [
    "# Scrivi qui il tuo codice"
   ]
  },
  {
   "cell_type": "markdown",
   "id": "3fef97cc-454a-481e-85b2-ddecd945dd86",
   "metadata": {},
   "source": [
    "## **Esercizio 2: Angolo di un vettore con l'asse x**\n",
    "\n",
    "**Traccia:** Dato il vettore $\\mathbf{C}$ dell'esercizion precedente, calcolare l'angolo $\\theta$ che il vettore forma con l'asse $x$.\n",
    "\n",
    "<details>\n",
    "  <summary> Mostra la Soluzione</summary>\n",
    "    Per calcolare l'angolo $\\theta$ che un generico vettore usiamo la relazione:\n",
    "        $$\\theta=\\arctan\\left(\\frac{b}{a}\\right)$$\n",
    "    dove $a$ e $b$ sono le componenti del vettore $\\mathbf{V} = (a,b)$.\n",
    "    \n",
    "L'arcotangente è usata per calcolare l'angolo $\\theta$ dato il rapporto tra la componente \n",
    "$y$ e la componente $x$ del vettore. \n",
    "    La tangente di un angolo in un triangolo rettangolo è il rapporto tra il cateto opposto (componente \n",
    "$y$ ) e il cateto adiacente (componente \n",
    "$x$ ), quindi per calcolare l'angolo, applichiamo la funzione inversa della tangente, cioè \n",
    "arcotangente.    \n",
    "<br>\n",
    "    Nel nostro caso avremo: $$\\theta=\\arctan\\left(\\frac{9}{1}\\right)$$ \n",
    "    Il risulatato sarà $\\theta\\approx 1.460 \\;\\;\\;\\;$ radianti.\n",
    "    \n",
    "Se vogliamo l'angolo in gradi, possiamo convertirlo:\n",
    "    $$\\theta_{gradi} = 1.460\\frac{180}{\\pi}\\approx 83.57^\\circ$$\n"
   ]
  },
  {
   "cell_type": "code",
   "execution_count": 3,
   "id": "7213ef11-7fb9-4884-a9f7-f7dfa75862b8",
   "metadata": {
    "tags": []
   },
   "outputs": [],
   "source": [
    "# Scrivi qui il tuo codice"
   ]
  },
  {
   "cell_type": "markdown",
   "id": "2ddf0d48-c60e-4134-ae3f-e84457c16ac4",
   "metadata": {
    "tags": []
   },
   "source": [
    "## **Esercizio 3: Combinazione lineare di vettori**\n",
    "**Traccia:** Dati i vettori:\n",
    "$$\\mathbf{G} = (2,-1), \\;\\; \\mathbf{H} = (-3,4)$$\n",
    "calcoliamo la combinazione lineare:\n",
    "$\\mathbf{J} = 2\\mathbf{G} + 3\\mathbf{H}$, il modulo di $\\mathbf{J}$ e l'angolo che forma con l'asse $x$ espresso in gradi positivi.\n",
    "\n",
    "<details>\n",
    "  <summary> Mostra la Soluzione</summary>\n",
    "\n",
    "Moltiplichiamo i vettori per i rispettivi coefficienti e li sommiamo:\n",
    "$$\\mathbf{J}=2\\mathbf{G}+3\\mathbf{H}=(2\\cdot2+3\\cdot(-3),2\\cdot(-1)+3\\cdot4)=(4-9,-2+12)=(-5,10)$$    \n",
    "Modulo di $\\mathbf{J}$:\n",
    "$$∣{J}∣=\\sqrt{-5^2 + 10^2}=\\sqrt{25+100}=\\sqrt{125}\\approx 11.18$$\n",
    "Angolo in gradi:\n",
    "    $$\\theta_{g}=\\arctan\\left(\\frac{10}{-5}\\right)\\frac{180}{\\pi}\\approx -63.43^\\circ$$\n",
    "    In gradi positivi: $\\theta_{gradi} = 360^\\circ - \\theta_{g} = 296.57^\\circ$.\n",
    "    "
   ]
  },
  {
   "cell_type": "code",
   "execution_count": 22,
   "id": "61a5a327-0475-4478-959f-1fd46da13ce6",
   "metadata": {
    "tags": []
   },
   "outputs": [],
   "source": [
    "# Scrivi qui il tuo codice"
   ]
  },
  {
   "cell_type": "markdown",
   "id": "06624ac8-43e1-436b-aeb2-653bb15ac38b",
   "metadata": {
    "tags": []
   },
   "source": [
    "## **Esercizio 4: Somma di vettori in forma polare**\n"
   ]
  },
  {
   "cell_type": "markdown",
   "id": "ed574e07-9345-421e-9224-073a170f9de9",
   "metadata": {},
   "source": [
    "**Traccia:**  Dati i vettori: $\\mathbf{K}$ con modulo 5 e angolo con l'asse x $\\theta = 30^\\circ$ e\n",
    "$\\mathbf{L}$ con modulo 8 e angolo con l'asse x $\\theta = 120^\\circ$, calcolare il vettore somma $\\mathbf{S}$ e il modulo di $\\mathbf{S}$.\n",
    "\n",
    "<details>\n",
    "  <summary> Mostra la Soluzione</summary>\n",
    "Un vettore $\\mathbf{V} = (V_x,V_y)$ $\\;\\;\\;\\;\\;$ può essere da due parametri:\n",
    "Il modulo $|r|$ che rappresenta la lunghezza del vettore e\n",
    "L'angolo $\\theta$, che rappresenta l'inclinazione del vettore rispetto all'asse x.\n",
    "\n",
    "Per ricavare le componenti $x$ (orizzontale $V_x$) e $y$ (verticale $V_y$) del vettore, dobbiamo pensare a questo vettore come a un triangolo rettangolo:\n",
    "- L'ipotenusa del triangolo è il nostro vettore\n",
    "- I cateti (i lati perpendicolari) sono le componenti del vettore lungo gli assi $x$ e $y$.\n",
    "    \n",
    "Per calcolare queste componenti, usiamo la trigonometria, e più precisamente il coseno e il seno:\n",
    "    \n",
    "1. La componente orizzontale $x\\;$ è data dal coseno dell'angolo $\\theta$ moltiplicato per il modulo del vettore:     \n",
    "    $$V_x = r\\cdot\\cos\\theta$$ \n",
    "2. La componente orizzontale $y\\;$ è data dal seno dell'angolo $\\theta$ moltiplicato per il modulo del vettore:\n",
    "    $$V_y = r\\cdot\\sin\\theta$$ \n",
    "    \n",
    "Il coseno ci dice quanto del vettore si \"estende\" orizzontalmente, mentre il seno ci dice quanto si estende verticalmente.    \n",
    "***\n",
    "Nel nostro caso, per il vettore $\\mathbf{K}$ avremo:   \n",
    "    $$K_x = 5\\cdot\\cos\\left(30^\\circ\\cdot\\frac{\\pi}{180}\\right)=5\\cdot0.866=4.33$$\n",
    "        $$K_y = 5\\cdot\\sin\\left(30^\\circ\\cdot\\frac{\\pi}{180}\\right)=5\\cdot0.5=2.5$$\n",
    "mentre per il vettore $\\mathbf{L}$ avremo:   \n",
    "    $$L_x = 8\\cdot\\cos\\left(120^\\circ\\cdot\\frac{\\pi}{180}\\right)=8\\cdot(-0.5)=-4$$\n",
    "        $$L_y = 8\\cdot\\sin\\left(120^\\circ\\cdot\\frac{\\pi}{180}\\right)=8\\cdot0.866=6.93$$  \n",
    "    \n",
    "Sommiamo le componenti:\n",
    "$$S_x = 4.33 + (-4)=0.33$$\n",
    "    $$S_y = 2.5 + 6.93=9.43$$\n",
    "    \n",
    "Modulo della somma $\\mathbf{S}$:\n",
    "    $$|S|=\\sqrt{0.33^2 + 9.43^2}$$"
   ]
  },
  {
   "cell_type": "code",
   "execution_count": 24,
   "id": "b2966e86-7322-44c6-8134-5f88c7b2be1f",
   "metadata": {
    "tags": []
   },
   "outputs": [],
   "source": [
    "# Scrivi qui il tuo codice"
   ]
  },
  {
   "cell_type": "markdown",
   "id": "3951216f-be6e-4aa2-b91f-08905febf95c",
   "metadata": {},
   "source": [
    "## **Esercizio 5: Differenza di vettori in forma polare**\n",
    "**Traccia:**  Dati i vettori: $\\mathbf{P}$ con modulo 6 e angolo con l'asse x $\\theta = 45^\\circ$ e\n",
    "$\\mathbf{Q}$ con modulo 10 e angolo con l'asse x $\\theta = 200^\\circ$, calcolare il vettore differenza $\\mathbf{D}$ e il modulo di $\\mathbf{D}$, e langolo formato tra il vettore $\\mathbf{D}$ e l'asse $x$.\n",
    "\n",
    "\n",
    "<details>\n",
    "  <summary> Mostra la Soluzione</summary>\n",
    "    \n",
    "Convertiamo in coordinate cartesiane: Convertiamo in coordinate cartesiane:\n",
    "\n",
    "$$ P_x = 6 \\cdot \\cos(45^\\circ) = 6 \\cdot 0.707 = 4.24 $$\n",
    "$$ P_y = 6 \\cdot \\sin(45^\\circ) = 6 \\cdot 0.707 = 4.24 $$\n",
    "\n",
    "$$ Q_x = 10 \\cdot \\cos(200^\\circ) = 10 \\cdot (-0.94) = -9.40 $$\n",
    "$$ Q_y = 10 \\cdot \\sin(200^\\circ) = 10 \\cdot (-0.34) = -3.42 $$\n",
    "\n",
    "Calcoliamo la differenza:\n",
    "\n",
    "$$ D_x = 4.24 - (-9.40) = 13.64 $$\n",
    "$$ D_y = 4.24 - (-3.42) = 7.66 $$\n",
    "\n",
    "Modulo della differenza:\n",
    "\n",
    "$$\n",
    "|D| = \\sqrt{(13.64)^2 + (7.66)^2} = \\sqrt{186.11 + 58.71} = \\sqrt{244.82} \\approx 15.64\n",
    "$$\n",
    "\n",
    "Angolo:\n",
    "\n",
    "$$\n",
    "\\theta = \\tan^{-1}\\left(\\frac{7.66}{13.64}\\right) = \\tan^{-1}(0.562) \\approx 29.5^\\circ\n",
    "$$\n"
   ]
  },
  {
   "cell_type": "code",
   "execution_count": null,
   "id": "eba631cb-0132-48ba-87e0-dbb9a53a3a29",
   "metadata": {},
   "outputs": [],
   "source": [
    "# Scrivi qui il tuo codice"
   ]
  }
 ],
 "metadata": {
  "kernelspec": {
   "display_name": "Python 3 (ipykernel)",
   "language": "python",
   "name": "python3"
  },
  "language_info": {
   "codemirror_mode": {
    "name": "ipython",
    "version": 3
   },
   "file_extension": ".py",
   "mimetype": "text/x-python",
   "name": "python",
   "nbconvert_exporter": "python",
   "pygments_lexer": "ipython3",
   "version": "3.11.5"
  }
 },
 "nbformat": 4,
 "nbformat_minor": 5
}
