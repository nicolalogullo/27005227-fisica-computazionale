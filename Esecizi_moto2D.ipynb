{
 "cells": [
  {
   "cell_type": "markdown",
   "id": "3976be3b-721b-48a2-8a5f-8a15efd8b8e3",
   "metadata": {},
   "source": [
    "# Soluzioni esercitazione 18/04/2025\n",
    "## Fisica Computazionale – gruppo A\n",
    "\n",
    "**Esercizi cinematica, moto in 2 dimensioni, moto circolare e grafici.**\n",
    "---"
   ]
  },
  {
   "cell_type": "markdown",
   "id": "c145b76d-a2fa-4297-bc52-ae7a7ce663e4",
   "metadata": {
    "tags": []
   },
   "source": [
    "## **Esercizio 1: Moto su in piano inclinato**\n",
    "**Traccia:** Un'auto viene parcheggiata priva di freno a mano sulla sommità di una collina che forma un angolo di $\\theta = 30^\\circ$ rispetto alla direzione orizzontale. Sotto l'azione inesorabile della gravità, la macchina inizia muoversi percorrendo l'intera collina per poi fermarsi a valle dopo aver percorso un tratto $d$. Sapendo che la collina è alta $0.025$ km, calcolare: la lunghezza del tratto percorso lungo la collina, l'accelerazione che l'auto sperimenta lungo la collina, il modulo dell'accelerazione lungo la discesa, il tempo necessario e la velocità con cui l'auto arriva alla fine della collina, la distanza $d$ che l'auto percorre sulla strada pianeggiante prima di fermarsi, sapendo che sperimenta una decelerazione costante di $0.75$ m/s²."
   ]
  },
  {
   "cell_type": "code",
   "execution_count": null,
   "id": "6d77ed87-1f0c-4143-b3b8-587fe0d42b9c",
   "metadata": {
    "tags": []
   },
   "outputs": [],
   "source": []
  },
  {
   "cell_type": "markdown",
   "id": "2b46aee5-ada3-4694-9e1e-2c6d51b00b07",
   "metadata": {},
   "source": [
    "## **Esercizio 2: Moto Circolare di una Giostra**\n",
    "**Traccia:** Un bambino è seduto su un cavallo di una giostra che ruota con velocità costante di 2 giri al minuto. Sapendo che il raggio della giostra è di $5000$ mm, determinare:\n",
    "\n",
    "- La velocità angolare della giostra in radianti al secondo.\n",
    "- La velocità lineare del bambino.\n",
    "- L'accelerazione centripeta che il bambino sperimenta."
   ]
  },
  {
   "cell_type": "code",
   "execution_count": null,
   "id": "5e16398f-5af9-4601-b126-342727d966af",
   "metadata": {
    "tags": []
   },
   "outputs": [],
   "source": []
  },
  {
   "cell_type": "markdown",
   "id": "752baec7-0a9b-4079-9158-ee86d8442133",
   "metadata": {},
   "source": [
    "## **Esercizio 3: Il Tiro Perfetto a Basket (DIFFICILE!)**\n",
    "**Traccia:** Tre giocatori di altezze differenti ($1.75$ m, $1.90$ m e $2.05$ m) tirano un pallone da metà campo ($14$ m dal canestro), mirando a un canestro posto a $y_{canestro} = 3.05$ m.\n",
    "Il pallone parte sempre con velocità $v_0 = 10$ m/s.\n",
    "Qual è l'angolo $\\theta$ con cui ciascun giocatore deve tirare affinché il pallone entri nel canestro? Qual è l'altezza massima $y_{max}$ a cui ogni giocatore farà arrivare il pallone? Quale sarà il modulo della velocità quando la palla entrerà a canestro $v_{canestro}$?\n",
    "\n",
    "<details>\n",
    "  <summary> Algoritmo per il calcolo di $\\theta$: Ricerca per tentativi (o bisezione) </summary>\n",
    "\n",
    "# Metodo della Bisezione per trovare l'angolo $ \\theta $ del tiro a canestro\n",
    "\n",
    "## Descrizione\n",
    "Per il problema del tiro a canestro, vogliamo trovare l'angolo $ \\theta $ che permette al pallone di raggiungere il canestro. La traiettoria del pallone è descritta dal moto parabolico, e la condizione per il canestro è che il pallone raggiunga l'altezza $ y_{\\text{canestro}} = 3.05 \\, \\text{m} $ quando il pallone è a $ x = 14 \\, \\text{m} $.\n",
    "\n",
    "## Passaggi per il Metodo della Bisezione\n",
    "\n",
    "1. **Definizione della funzione**:\n",
    "    - La funzione che vogliamo risolvere è:\n",
    "    $$\n",
    "    f(\\theta) = y_{\\text{pallone}}(\\theta, x = 14) - 3.05\n",
    "    $$\n",
    "    dove $ y_{\\text{pallone}}(\\theta, x) $ è la funzione che descrive l'altezza del pallone in funzione dell'angolo $ \\theta $ e della distanza orizzontale $ x $.\n",
    "\n",
    "    La funzione $ y_{\\text{pallone}} $ è data da:\n",
    "    $$\n",
    "    y(\\theta, t) = v_0 \\sin(\\theta) \\cdot t - \\frac{1}{2} g t^2\n",
    "    $$\n",
    "    dove:\n",
    "    - $ v_0 $ è la velocità iniziale del pallone.\n",
    "    - $ \\theta $ è l'angolo di lancio.\n",
    "    - $ g $ è l'accelerazione gravitazionale ($ 9.81 \\, \\text{m/s}^2 $).\n",
    "    - $ t $ è il tempo impiegato per arrivare alla distanza orizzontale di 14 m.\n",
    "\n",
    "    Il tempo $ t $ per raggiungere la distanza $ x = 14 \\, \\text{m} $ è dato da:\n",
    "    $$\n",
    "    t = \\frac{x}{v_0 \\cos(\\theta)}\n",
    "    $$\n",
    "\n",
    "    Pertanto, l'altezza del pallone al tempo $ t $ sarà:\n",
    "    $$\n",
    "    y(\\theta) = v_0 \\sin(\\theta) \\cdot \\left( \\frac{x}{v_0 \\cos(\\theta)} \\right) - \\frac{1}{2} g \\left( \\frac{x}{v_0 \\cos(\\theta)} \\right)^2\n",
    "    $$\n",
    "    Semplificando, otteniamo:\n",
    "    $$\n",
    "    f(\\theta) = v_0 \\tan(\\theta) \\cdot x - \\frac{g x^2}{2 v_0^2 \\cos^2(\\theta)} - 3.05\n",
    "    $$\n",
    "\n",
    "2. **Scelta dell'intervallo iniziale**:\n",
    "    - Scegliere un intervallo $ [a, b] $ per l'angolo $ \\theta $ (ad esempio, tra 0 e 45 gradi).\n",
    "\n",
    "3. **Calcolo del punto medio**:\n",
    "    - Calcolare il punto medio $ m $ dell'intervallo corrente:\n",
    "      $$\n",
    "      m = \\frac{a + b}{2}\n",
    "      $$\n",
    "\n",
    "4. **Verifica della soluzione**:\n",
    "    - Se $ f(m) $ è abbastanza vicino a zero (ossia $ |f(m)| < \\epsilon $, con $ \\epsilon $ tolleranza definita), allora $ m $ è la soluzione.\n",
    "\n",
    "5. **Aggiornamento dell'intervallo**:\n",
    "    - Se $ f(m) \\cdot f(a) < 0 $, aggiorniamo $ b = m $.\n",
    "    - Se $ f(m) \\cdot f(b) < 0 $, aggiorniamo $ a = m $.\n",
    "\n",
    "6. **Ripetizione**:\n",
    "    - Ripetere i passi 3-5 fino a che la condizione di convergenza $ |f(m)| < \\epsilon $ è soddisfatta o fino al numero massimo di iterazioni.\n",
    "\n",
    "## Funzione per la Traiettoria del Pallone\n",
    "La traiettoria del pallone è descritta da due equazioni per il moto parabolico:\n",
    "- Per la componente orizzontale:\n",
    "  $$\n",
    "  x(t) = v_0 \\cos(\\theta) \\cdot t\n",
    "  $$\n",
    "- Per la componente verticale:\n",
    "  $$\n",
    "  y(t) = y_0 + v_0 \\sin(\\theta) \\cdot t - \\frac{1}{2} g t^2\n",
    "  $$\n",
    "\n",
    "Dove:\n",
    "- $ v_0 $ è la velocità iniziale del pallone.\n",
    "- $ \\theta $ è l'angolo di lancio.\n",
    "- $ g $ è l'accelerazione gravitazionale ($ 9.81 \\, \\text{m/s}^2 $).\n",
    "- $ y_0 = 0 \\, \\text{m} $ è l'altezza di partenza del pallone.\n",
    "</details>    "
   ]
  },
  {
   "cell_type": "code",
   "execution_count": null,
   "id": "6cae57f4-a19e-42ff-bc90-2ef33a29982c",
   "metadata": {},
   "outputs": [],
   "source": []
  }
 ],
 "metadata": {
  "kernelspec": {
   "display_name": "Python 3 (ipykernel)",
   "language": "python",
   "name": "python3"
  },
  "language_info": {
   "codemirror_mode": {
    "name": "ipython",
    "version": 3
   },
   "file_extension": ".py",
   "mimetype": "text/x-python",
   "name": "python",
   "nbconvert_exporter": "python",
   "pygments_lexer": "ipython3",
   "version": "3.11.5"
  }
 },
 "nbformat": 4,
 "nbformat_minor": 5
}
